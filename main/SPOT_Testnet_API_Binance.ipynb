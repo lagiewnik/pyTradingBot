{
 "cells": [
  {
   "cell_type": "markdown",
   "id": "8b232db6",
   "metadata": {},
   "source": [
    "# Paper Trading with python and binance- the Spot TestNet API"
   ]
  },
  {
   "cell_type": "markdown",
   "id": "77d6e093",
   "metadata": {},
   "source": [
    "Testkey from: https://testnet.binance.vision/key/generate"
   ]
  },
  {
   "cell_type": "code",
   "execution_count": 1,
   "id": "b3964bd1",
   "metadata": {},
   "outputs": [],
   "source": [
    "### testnet binance vision\n",
    "api_key = '7BZCD18RNJcGUPYTWJJF1okfpajZZUdIXxq12JyC69neYuDkK3jzigOUhKLxujLb'\n",
    "secret_key = 'IsrLOOSAfKPA7ktaF9m4lHQntbSqYoHxcICieILM4r2BqWp2e1zI6XBjuB52suja'"
   ]
  },
  {
   "cell_type": "markdown",
   "id": "dea4c5e1",
   "metadata": {},
   "source": [
    "## Creating a connection tothe spot testNET"
   ]
  },
  {
   "cell_type": "code",
   "execution_count": 3,
   "id": "1a2768ea",
   "metadata": {},
   "outputs": [],
   "source": [
    "from binance.client import Client"
   ]
  },
  {
   "cell_type": "code",
   "execution_count": 4,
   "id": "70bd072a",
   "metadata": {},
   "outputs": [],
   "source": [
    "client = Client(api_key = api_key, api_secret=secret_key, tld=\"com\", testnet=True)"
   ]
  },
  {
   "cell_type": "code",
   "execution_count": 5,
   "id": "524ce297",
   "metadata": {},
   "outputs": [
    {
     "data": {
      "text/plain": [
       "<binance.client.Client at 0x21ddfc1daf0>"
      ]
     },
     "execution_count": 5,
     "metadata": {},
     "output_type": "execute_result"
    }
   ],
   "source": [
    "client"
   ]
  },
  {
   "cell_type": "code",
   "execution_count": 6,
   "id": "2608e354",
   "metadata": {},
   "outputs": [
    {
     "data": {
      "text/plain": [
       "{'makerCommission': 0,\n",
       " 'takerCommission': 0,\n",
       " 'buyerCommission': 0,\n",
       " 'sellerCommission': 0,\n",
       " 'canTrade': True,\n",
       " 'canWithdraw': False,\n",
       " 'canDeposit': False,\n",
       " 'updateTime': 1643206165733,\n",
       " 'accountType': 'SPOT',\n",
       " 'balances': [{'asset': 'BNB',\n",
       "   'free': '1000.00000000',\n",
       "   'locked': '0.00000000'},\n",
       "  {'asset': 'BTC', 'free': '1.00000000', 'locked': '0.00000000'},\n",
       "  {'asset': 'BUSD', 'free': '10000.00000000', 'locked': '0.00000000'},\n",
       "  {'asset': 'ETH', 'free': '100.00000000', 'locked': '0.00000000'},\n",
       "  {'asset': 'LTC', 'free': '500.00000000', 'locked': '0.00000000'},\n",
       "  {'asset': 'TRX', 'free': '500000.00000000', 'locked': '0.00000000'},\n",
       "  {'asset': 'USDT', 'free': '10000.00000000', 'locked': '0.00000000'},\n",
       "  {'asset': 'XRP', 'free': '50000.00000000', 'locked': '0.00000000'}],\n",
       " 'permissions': ['SPOT']}"
      ]
     },
     "execution_count": 6,
     "metadata": {},
     "output_type": "execute_result"
    }
   ],
   "source": [
    "client.get_account()"
   ]
  },
  {
   "cell_type": "markdown",
   "id": "492414cf",
   "metadata": {},
   "source": [
    "## Spot test API overview"
   ]
  },
  {
   "cell_type": "code",
   "execution_count": 7,
   "id": "27d0d27c",
   "metadata": {},
   "outputs": [],
   "source": [
    "import pandas as pd\n",
    "from binance.client import Client"
   ]
  },
  {
   "cell_type": "code",
   "execution_count": 8,
   "id": "1d09c236",
   "metadata": {},
   "outputs": [],
   "source": [
    "client = Client(api_key = api_key, api_secret=secret_key, tld=\"com\", testnet=True)"
   ]
  },
  {
   "cell_type": "code",
   "execution_count": 9,
   "id": "de0a15a1",
   "metadata": {},
   "outputs": [
    {
     "data": {
      "text/plain": [
       "{'status': 0, 'msg': 'normal'}"
      ]
     },
     "execution_count": 9,
     "metadata": {},
     "output_type": "execute_result"
    }
   ],
   "source": [
    "client.get_system_status()"
   ]
  },
  {
   "cell_type": "code",
   "execution_count": 10,
   "id": "e7c47b60",
   "metadata": {},
   "outputs": [
    {
     "data": {
      "text/plain": [
       "{'makerCommission': 0,\n",
       " 'takerCommission': 0,\n",
       " 'buyerCommission': 0,\n",
       " 'sellerCommission': 0,\n",
       " 'canTrade': True,\n",
       " 'canWithdraw': False,\n",
       " 'canDeposit': False,\n",
       " 'updateTime': 1643206165733,\n",
       " 'accountType': 'SPOT',\n",
       " 'balances': [{'asset': 'BNB',\n",
       "   'free': '1000.00000000',\n",
       "   'locked': '0.00000000'},\n",
       "  {'asset': 'BTC', 'free': '1.00000000', 'locked': '0.00000000'},\n",
       "  {'asset': 'BUSD', 'free': '10000.00000000', 'locked': '0.00000000'},\n",
       "  {'asset': 'ETH', 'free': '100.00000000', 'locked': '0.00000000'},\n",
       "  {'asset': 'LTC', 'free': '500.00000000', 'locked': '0.00000000'},\n",
       "  {'asset': 'TRX', 'free': '500000.00000000', 'locked': '0.00000000'},\n",
       "  {'asset': 'USDT', 'free': '10000.00000000', 'locked': '0.00000000'},\n",
       "  {'asset': 'XRP', 'free': '50000.00000000', 'locked': '0.00000000'}],\n",
       " 'permissions': ['SPOT']}"
      ]
     },
     "execution_count": 10,
     "metadata": {},
     "output_type": "execute_result"
    }
   ],
   "source": [
    "account = client.get_account()\n",
    "account"
   ]
  },
  {
   "cell_type": "code",
   "execution_count": 11,
   "id": "2c94fdb6",
   "metadata": {},
   "outputs": [
    {
     "data": {
      "text/html": [
       "<div>\n",
       "<style scoped>\n",
       "    .dataframe tbody tr th:only-of-type {\n",
       "        vertical-align: middle;\n",
       "    }\n",
       "\n",
       "    .dataframe tbody tr th {\n",
       "        vertical-align: top;\n",
       "    }\n",
       "\n",
       "    .dataframe thead th {\n",
       "        text-align: right;\n",
       "    }\n",
       "</style>\n",
       "<table border=\"1\" class=\"dataframe\">\n",
       "  <thead>\n",
       "    <tr style=\"text-align: right;\">\n",
       "      <th></th>\n",
       "      <th>asset</th>\n",
       "      <th>free</th>\n",
       "      <th>locked</th>\n",
       "    </tr>\n",
       "  </thead>\n",
       "  <tbody>\n",
       "    <tr>\n",
       "      <th>0</th>\n",
       "      <td>BNB</td>\n",
       "      <td>1000.00000000</td>\n",
       "      <td>0.00000000</td>\n",
       "    </tr>\n",
       "    <tr>\n",
       "      <th>1</th>\n",
       "      <td>BTC</td>\n",
       "      <td>1.00000000</td>\n",
       "      <td>0.00000000</td>\n",
       "    </tr>\n",
       "    <tr>\n",
       "      <th>2</th>\n",
       "      <td>BUSD</td>\n",
       "      <td>10000.00000000</td>\n",
       "      <td>0.00000000</td>\n",
       "    </tr>\n",
       "    <tr>\n",
       "      <th>3</th>\n",
       "      <td>ETH</td>\n",
       "      <td>100.00000000</td>\n",
       "      <td>0.00000000</td>\n",
       "    </tr>\n",
       "    <tr>\n",
       "      <th>4</th>\n",
       "      <td>LTC</td>\n",
       "      <td>500.00000000</td>\n",
       "      <td>0.00000000</td>\n",
       "    </tr>\n",
       "    <tr>\n",
       "      <th>5</th>\n",
       "      <td>TRX</td>\n",
       "      <td>500000.00000000</td>\n",
       "      <td>0.00000000</td>\n",
       "    </tr>\n",
       "    <tr>\n",
       "      <th>6</th>\n",
       "      <td>USDT</td>\n",
       "      <td>10000.00000000</td>\n",
       "      <td>0.00000000</td>\n",
       "    </tr>\n",
       "    <tr>\n",
       "      <th>7</th>\n",
       "      <td>XRP</td>\n",
       "      <td>50000.00000000</td>\n",
       "      <td>0.00000000</td>\n",
       "    </tr>\n",
       "  </tbody>\n",
       "</table>\n",
       "</div>"
      ],
      "text/plain": [
       "  asset             free      locked\n",
       "0   BNB    1000.00000000  0.00000000\n",
       "1   BTC       1.00000000  0.00000000\n",
       "2  BUSD   10000.00000000  0.00000000\n",
       "3   ETH     100.00000000  0.00000000\n",
       "4   LTC     500.00000000  0.00000000\n",
       "5   TRX  500000.00000000  0.00000000\n",
       "6  USDT   10000.00000000  0.00000000\n",
       "7   XRP   50000.00000000  0.00000000"
      ]
     },
     "execution_count": 11,
     "metadata": {},
     "output_type": "execute_result"
    }
   ],
   "source": [
    "df= pd.DataFrame(account[\"balances\"])\n",
    "df"
   ]
  },
  {
   "cell_type": "code",
   "execution_count": 12,
   "id": "7e23a2c1",
   "metadata": {},
   "outputs": [],
   "source": [
    "df.free = pd.to_numeric(df.free, errors=\"coerce\")\n",
    "df.locked = pd.to_numeric(df.locked, errors=\"coerce\")"
   ]
  },
  {
   "cell_type": "code",
   "execution_count": 13,
   "id": "622ecefb",
   "metadata": {},
   "outputs": [
    {
     "data": {
      "text/html": [
       "<div>\n",
       "<style scoped>\n",
       "    .dataframe tbody tr th:only-of-type {\n",
       "        vertical-align: middle;\n",
       "    }\n",
       "\n",
       "    .dataframe tbody tr th {\n",
       "        vertical-align: top;\n",
       "    }\n",
       "\n",
       "    .dataframe thead th {\n",
       "        text-align: right;\n",
       "    }\n",
       "</style>\n",
       "<table border=\"1\" class=\"dataframe\">\n",
       "  <thead>\n",
       "    <tr style=\"text-align: right;\">\n",
       "      <th></th>\n",
       "      <th>asset</th>\n",
       "      <th>free</th>\n",
       "      <th>locked</th>\n",
       "    </tr>\n",
       "  </thead>\n",
       "  <tbody>\n",
       "    <tr>\n",
       "      <th>0</th>\n",
       "      <td>BNB</td>\n",
       "      <td>1000.0</td>\n",
       "      <td>0.0</td>\n",
       "    </tr>\n",
       "    <tr>\n",
       "      <th>1</th>\n",
       "      <td>BTC</td>\n",
       "      <td>1.0</td>\n",
       "      <td>0.0</td>\n",
       "    </tr>\n",
       "    <tr>\n",
       "      <th>2</th>\n",
       "      <td>BUSD</td>\n",
       "      <td>10000.0</td>\n",
       "      <td>0.0</td>\n",
       "    </tr>\n",
       "    <tr>\n",
       "      <th>3</th>\n",
       "      <td>ETH</td>\n",
       "      <td>100.0</td>\n",
       "      <td>0.0</td>\n",
       "    </tr>\n",
       "    <tr>\n",
       "      <th>4</th>\n",
       "      <td>LTC</td>\n",
       "      <td>500.0</td>\n",
       "      <td>0.0</td>\n",
       "    </tr>\n",
       "    <tr>\n",
       "      <th>5</th>\n",
       "      <td>TRX</td>\n",
       "      <td>500000.0</td>\n",
       "      <td>0.0</td>\n",
       "    </tr>\n",
       "    <tr>\n",
       "      <th>6</th>\n",
       "      <td>USDT</td>\n",
       "      <td>10000.0</td>\n",
       "      <td>0.0</td>\n",
       "    </tr>\n",
       "    <tr>\n",
       "      <th>7</th>\n",
       "      <td>XRP</td>\n",
       "      <td>50000.0</td>\n",
       "      <td>0.0</td>\n",
       "    </tr>\n",
       "  </tbody>\n",
       "</table>\n",
       "</div>"
      ],
      "text/plain": [
       "  asset      free  locked\n",
       "0   BNB    1000.0     0.0\n",
       "1   BTC       1.0     0.0\n",
       "2  BUSD   10000.0     0.0\n",
       "3   ETH     100.0     0.0\n",
       "4   LTC     500.0     0.0\n",
       "5   TRX  500000.0     0.0\n",
       "6  USDT   10000.0     0.0\n",
       "7   XRP   50000.0     0.0"
      ]
     },
     "execution_count": 13,
     "metadata": {},
     "output_type": "execute_result"
    }
   ],
   "source": [
    "df"
   ]
  },
  {
   "cell_type": "code",
   "execution_count": 14,
   "id": "adc36f13",
   "metadata": {},
   "outputs": [
    {
     "name": "stdout",
     "output_type": "stream",
     "text": [
      "<class 'pandas.core.frame.DataFrame'>\n",
      "RangeIndex: 8 entries, 0 to 7\n",
      "Data columns (total 3 columns):\n",
      " #   Column  Non-Null Count  Dtype  \n",
      "---  ------  --------------  -----  \n",
      " 0   asset   8 non-null      object \n",
      " 1   free    8 non-null      float64\n",
      " 2   locked  8 non-null      float64\n",
      "dtypes: float64(2), object(1)\n",
      "memory usage: 320.0+ bytes\n"
     ]
    }
   ],
   "source": [
    "df.info()"
   ]
  },
  {
   "cell_type": "code",
   "execution_count": 16,
   "id": "c127db9f",
   "metadata": {},
   "outputs": [
    {
     "data": {
      "text/plain": [
       "{'asset': 'ETH', 'free': '100.00000000', 'locked': '0.00000000'}"
      ]
     },
     "execution_count": 16,
     "metadata": {},
     "output_type": "execute_result"
    }
   ],
   "source": [
    "client.get_asset_balance(asset = \"ETH\")"
   ]
  },
  {
   "cell_type": "code",
   "execution_count": 17,
   "id": "e7dc1a84",
   "metadata": {},
   "outputs": [
    {
     "data": {
      "text/plain": [
       "{'symbol': 'BTCUSDT', 'price': '38095.06000000'}"
      ]
     },
     "execution_count": 17,
     "metadata": {},
     "output_type": "execute_result"
    }
   ],
   "source": [
    "client.get_symbol_ticker(symbol=\"BTCUSDT\")"
   ]
  },
  {
   "cell_type": "code",
   "execution_count": 18,
   "id": "24615760",
   "metadata": {},
   "outputs": [
    {
     "data": {
      "text/plain": [
       "[{'symbol': 'BNBBUSD', 'price': '350.00000000'},\n",
       " {'symbol': 'BTCBUSD', 'price': '250000.00000000'},\n",
       " {'symbol': 'ETHBUSD', 'price': '2146.27000000'},\n",
       " {'symbol': 'LTCBUSD', 'price': '61.00000000'},\n",
       " {'symbol': 'TRXBUSD', 'price': '0.13332000'},\n",
       " {'symbol': 'XRPBUSD', 'price': '0.61610000'},\n",
       " {'symbol': 'BNBUSDT', 'price': '395.30000000'},\n",
       " {'symbol': 'BTCUSDT', 'price': '38030.54000000'},\n",
       " {'symbol': 'ETHUSDT', 'price': '1021.00000000'},\n",
       " {'symbol': 'LTCUSDT', 'price': '461.06000000'},\n",
       " {'symbol': 'TRXUSDT', 'price': '0.05767000'},\n",
       " {'symbol': 'XRPUSDT', 'price': '372.96420000'},\n",
       " {'symbol': 'BNBBTC', 'price': '0.01035000'},\n",
       " {'symbol': 'ETHBTC', 'price': '0.06648800'},\n",
       " {'symbol': 'LTCBTC', 'price': '0.00319700'},\n",
       " {'symbol': 'TRXBTC', 'price': '0.00000222'},\n",
       " {'symbol': 'XRPBTC', 'price': '0.00001650'},\n",
       " {'symbol': 'LTCBNB', 'price': '0.17450000'},\n",
       " {'symbol': 'TRXBNB', 'price': '0.00015000'},\n",
       " {'symbol': 'XRPBNB', 'price': '0.00162700'}]"
      ]
     },
     "execution_count": 18,
     "metadata": {},
     "output_type": "execute_result"
    }
   ],
   "source": [
    "client.get_all_tickers()"
   ]
  },
  {
   "cell_type": "code",
   "execution_count": 19,
   "id": "71b2dc5f",
   "metadata": {},
   "outputs": [
    {
     "data": {
      "text/plain": [
       "{'symbol': 'BTCUSDT',\n",
       " 'priceChange': '1270.26000000',\n",
       " 'priceChangePercent': '3.454',\n",
       " 'weightedAvgPrice': '37389.90292894',\n",
       " 'prevClosePrice': '36771.37000000',\n",
       " 'lastPrice': '38041.63000000',\n",
       " 'lastQty': '0.07622400',\n",
       " 'bidPrice': '38041.44000000',\n",
       " 'bidQty': '0.09358300',\n",
       " 'askPrice': '38044.00000000',\n",
       " 'askQty': '0.05861700',\n",
       " 'openPrice': '36771.37000000',\n",
       " 'highPrice': '38095.06000000',\n",
       " 'lowPrice': '36607.15000000',\n",
       " 'volume': '3098.24514200',\n",
       " 'quoteVolume': '115843085.10943654',\n",
       " 'openTime': 1643377271838,\n",
       " 'closeTime': 1643463671838,\n",
       " 'firstId': 2517179,\n",
       " 'lastId': 2583960,\n",
       " 'count': 66782}"
      ]
     },
     "execution_count": 19,
     "metadata": {},
     "output_type": "execute_result"
    }
   ],
   "source": [
    "last24BTC = client.get_ticker(symbol = \"BTCUSDT\")\n",
    "last24BTC"
   ]
  },
  {
   "cell_type": "code",
   "execution_count": 21,
   "id": "f1084635",
   "metadata": {},
   "outputs": [
    {
     "data": {
      "text/plain": [
       "1641254400000"
      ]
     },
     "execution_count": 21,
     "metadata": {},
     "output_type": "execute_result"
    }
   ],
   "source": [
    "timestamp= client._get_earliest_valid_timestamp(symbol=\"BTCUSDT\", interval=\"1d\")\n",
    "timestamp"
   ]
  },
  {
   "cell_type": "code",
   "execution_count": 22,
   "id": "bc98a3bb",
   "metadata": {},
   "outputs": [
    {
     "data": {
      "text/plain": [
       "Timestamp('2022-01-04 00:00:00')"
      ]
     },
     "execution_count": 22,
     "metadata": {},
     "output_type": "execute_result"
    }
   ],
   "source": [
    "pd.to_datetime(timestamp, unit=\"ms\")"
   ]
  },
  {
   "cell_type": "code",
   "execution_count": 23,
   "id": "8e54f540",
   "metadata": {},
   "outputs": [],
   "source": [
    "def get_history(symbol, interval, start, end=None):\n",
    "    bars = client.get_historical_klines(symbol = symbol, interval=interval, start_str=start,end_str = end, limit=1000)\n",
    "    df = pd.DataFrame(bars)\n",
    "    df[\"Date\"] = pd.to_datetime(df.iloc[:,0], unit=\"ms\")\n",
    "    df.columns = [\"Open time\", \"Open\",\"High\", \"Low\", \"Close\", \"Volume\", \"Close Time\", \"Quote Asset Volume\", \"Number of trades\", \"Taker Buy Asset Volume\", \"Taker Buy Quote Asset Volume\", \"Ignore\", \"Date\"]\n",
    "    df = df[[\"Date\", \"Open\", \"High\", \"Low\", \"Close\",\"Volume\"]].copy()\n",
    "    df.set_index(\"Date\", inplace=True)\n",
    "    for column in df.columns:\n",
    "        df[column]=pd.to_numeric(df[column], errors = \"coerce\")\n",
    "    return df"
   ]
  },
  {
   "cell_type": "code",
   "execution_count": 28,
   "id": "63429562",
   "metadata": {},
   "outputs": [
    {
     "data": {
      "text/html": [
       "<div>\n",
       "<style scoped>\n",
       "    .dataframe tbody tr th:only-of-type {\n",
       "        vertical-align: middle;\n",
       "    }\n",
       "\n",
       "    .dataframe tbody tr th {\n",
       "        vertical-align: top;\n",
       "    }\n",
       "\n",
       "    .dataframe thead th {\n",
       "        text-align: right;\n",
       "    }\n",
       "</style>\n",
       "<table border=\"1\" class=\"dataframe\">\n",
       "  <thead>\n",
       "    <tr style=\"text-align: right;\">\n",
       "      <th></th>\n",
       "      <th>Open</th>\n",
       "      <th>High</th>\n",
       "      <th>Low</th>\n",
       "      <th>Close</th>\n",
       "      <th>Volume</th>\n",
       "    </tr>\n",
       "    <tr>\n",
       "      <th>Date</th>\n",
       "      <th></th>\n",
       "      <th></th>\n",
       "      <th></th>\n",
       "      <th></th>\n",
       "      <th></th>\n",
       "    </tr>\n",
       "  </thead>\n",
       "  <tbody>\n",
       "    <tr>\n",
       "      <th>2022-01-04 07:00:00</th>\n",
       "      <td>46507.21</td>\n",
       "      <td>46582.30</td>\n",
       "      <td>45500.00</td>\n",
       "      <td>46550.00</td>\n",
       "      <td>7.447099</td>\n",
       "    </tr>\n",
       "    <tr>\n",
       "      <th>2022-01-04 08:00:00</th>\n",
       "      <td>46549.09</td>\n",
       "      <td>46710.32</td>\n",
       "      <td>20000.00</td>\n",
       "      <td>46492.11</td>\n",
       "      <td>19.577980</td>\n",
       "    </tr>\n",
       "    <tr>\n",
       "      <th>2022-01-04 09:00:00</th>\n",
       "      <td>46489.72</td>\n",
       "      <td>66489.64</td>\n",
       "      <td>35000.00</td>\n",
       "      <td>46348.01</td>\n",
       "      <td>17.908067</td>\n",
       "    </tr>\n",
       "    <tr>\n",
       "      <th>2022-01-04 10:00:00</th>\n",
       "      <td>46353.48</td>\n",
       "      <td>90000.00</td>\n",
       "      <td>31350.07</td>\n",
       "      <td>46626.64</td>\n",
       "      <td>21.762507</td>\n",
       "    </tr>\n",
       "    <tr>\n",
       "      <th>2022-01-04 11:00:00</th>\n",
       "      <td>46625.37</td>\n",
       "      <td>70000.00</td>\n",
       "      <td>29702.97</td>\n",
       "      <td>46728.85</td>\n",
       "      <td>19.450673</td>\n",
       "    </tr>\n",
       "    <tr>\n",
       "      <th>...</th>\n",
       "      <td>...</td>\n",
       "      <td>...</td>\n",
       "      <td>...</td>\n",
       "      <td>...</td>\n",
       "      <td>...</td>\n",
       "    </tr>\n",
       "    <tr>\n",
       "      <th>2022-01-29 09:00:00</th>\n",
       "      <td>37785.82</td>\n",
       "      <td>37785.82</td>\n",
       "      <td>37575.00</td>\n",
       "      <td>37703.24</td>\n",
       "      <td>89.753240</td>\n",
       "    </tr>\n",
       "    <tr>\n",
       "      <th>2022-01-29 10:00:00</th>\n",
       "      <td>37703.25</td>\n",
       "      <td>37865.11</td>\n",
       "      <td>37600.01</td>\n",
       "      <td>37756.42</td>\n",
       "      <td>86.195062</td>\n",
       "    </tr>\n",
       "    <tr>\n",
       "      <th>2022-01-29 11:00:00</th>\n",
       "      <td>37756.20</td>\n",
       "      <td>37784.00</td>\n",
       "      <td>37665.47</td>\n",
       "      <td>37741.60</td>\n",
       "      <td>81.899059</td>\n",
       "    </tr>\n",
       "    <tr>\n",
       "      <th>2022-01-29 12:00:00</th>\n",
       "      <td>37739.00</td>\n",
       "      <td>37918.86</td>\n",
       "      <td>37609.01</td>\n",
       "      <td>37847.58</td>\n",
       "      <td>95.970710</td>\n",
       "    </tr>\n",
       "    <tr>\n",
       "      <th>2022-01-29 13:00:00</th>\n",
       "      <td>37844.51</td>\n",
       "      <td>38172.89</td>\n",
       "      <td>37665.47</td>\n",
       "      <td>38147.58</td>\n",
       "      <td>94.488281</td>\n",
       "    </tr>\n",
       "  </tbody>\n",
       "</table>\n",
       "<p>607 rows × 5 columns</p>\n",
       "</div>"
      ],
      "text/plain": [
       "                         Open      High       Low     Close     Volume\n",
       "Date                                                                  \n",
       "2022-01-04 07:00:00  46507.21  46582.30  45500.00  46550.00   7.447099\n",
       "2022-01-04 08:00:00  46549.09  46710.32  20000.00  46492.11  19.577980\n",
       "2022-01-04 09:00:00  46489.72  66489.64  35000.00  46348.01  17.908067\n",
       "2022-01-04 10:00:00  46353.48  90000.00  31350.07  46626.64  21.762507\n",
       "2022-01-04 11:00:00  46625.37  70000.00  29702.97  46728.85  19.450673\n",
       "...                       ...       ...       ...       ...        ...\n",
       "2022-01-29 09:00:00  37785.82  37785.82  37575.00  37703.24  89.753240\n",
       "2022-01-29 10:00:00  37703.25  37865.11  37600.01  37756.42  86.195062\n",
       "2022-01-29 11:00:00  37756.20  37784.00  37665.47  37741.60  81.899059\n",
       "2022-01-29 12:00:00  37739.00  37918.86  37609.01  37847.58  95.970710\n",
       "2022-01-29 13:00:00  37844.51  38172.89  37665.47  38147.58  94.488281\n",
       "\n",
       "[607 rows x 5 columns]"
      ]
     },
     "execution_count": 28,
     "metadata": {},
     "output_type": "execute_result"
    }
   ],
   "source": [
    "df = get_history(\"BTCUSDT\", '1h', timestamp)\n",
    "df"
   ]
  },
  {
   "cell_type": "code",
   "execution_count": 29,
   "id": "9c67d937",
   "metadata": {},
   "outputs": [],
   "source": [
    "from binance import ThreadedWebsocketManager"
   ]
  },
  {
   "cell_type": "code",
   "execution_count": 30,
   "id": "13928553",
   "metadata": {},
   "outputs": [],
   "source": [
    "def stream_data(msg):\n",
    "    '''define how to proccess incoming WebSocket messages '''\n",
    "    time = pd.to_datetime(msg[\"E\"], unit=\"ms\")\n",
    "    price=msg[\"c\"]\n",
    "    print(\"Time: {} | Price: {}\".format(time, price))"
   ]
  },
  {
   "cell_type": "code",
   "execution_count": 31,
   "id": "1b14a1e6",
   "metadata": {},
   "outputs": [],
   "source": [
    "twm = ThreadedWebsocketManager()\n",
    "twm.start()"
   ]
  },
  {
   "cell_type": "code",
   "execution_count": 32,
   "id": "c21568ef",
   "metadata": {},
   "outputs": [
    {
     "data": {
      "text/plain": [
       "'btcusdt@miniTicker'"
      ]
     },
     "execution_count": 32,
     "metadata": {},
     "output_type": "execute_result"
    },
    {
     "name": "stdout",
     "output_type": "stream",
     "text": [
      "Time: 2022-01-29 13:55:23.533000 | Price: 38155.00000000\n",
      "Time: 2022-01-29 13:55:24.538000 | Price: 38158.12000000\n",
      "Time: 2022-01-29 13:55:25.209000 | Price: 38155.92000000\n",
      "Time: 2022-01-29 13:55:26.534000 | Price: 38150.46000000\n",
      "Time: 2022-01-29 13:55:27.448000 | Price: 38144.29000000\n",
      "Time: 2022-01-29 13:55:28.316000 | Price: 38149.78000000\n",
      "Time: 2022-01-29 13:55:29.461000 | Price: 38152.11000000\n",
      "Time: 2022-01-29 13:55:30.438000 | Price: 38150.00000000\n",
      "Time: 2022-01-29 13:55:30.823000 | Price: 38150.00000000\n",
      "Time: 2022-01-29 13:55:32.368000 | Price: 38150.00000000\n",
      "Time: 2022-01-29 13:55:33.457000 | Price: 38153.35000000\n",
      "Time: 2022-01-29 13:55:34.567000 | Price: 38154.99000000\n",
      "Time: 2022-01-29 13:55:35.433000 | Price: 38158.54000000\n",
      "Time: 2022-01-29 13:55:36.549000 | Price: 38154.00000000\n",
      "Time: 2022-01-29 13:55:37.355000 | Price: 38150.09000000\n",
      "Time: 2022-01-29 13:55:38.545000 | Price: 38150.00000000\n",
      "Time: 2022-01-29 13:55:39.596000 | Price: 38152.22000000\n",
      "Time: 2022-01-29 13:55:40.520000 | Price: 38152.23000000\n",
      "Time: 2022-01-29 13:55:41.470000 | Price: 38152.22000000\n"
     ]
    }
   ],
   "source": [
    "twm.start_symbol_miniticker_socket(callback=stream_data,symbol=\"BTCUSDT\")"
   ]
  },
  {
   "cell_type": "code",
   "execution_count": 33,
   "id": "ba02e47d",
   "metadata": {},
   "outputs": [
    {
     "name": "stdout",
     "output_type": "stream",
     "text": [
      "Time: 2022-01-29 13:55:42.485000 | Price: 38152.23000000\n"
     ]
    }
   ],
   "source": [
    "twm.stop()"
   ]
  },
  {
   "cell_type": "markdown",
   "id": "1ef7a481",
   "metadata": {},
   "source": [
    "## Placing a MarketBuyOrder"
   ]
  },
  {
   "cell_type": "code",
   "execution_count": 34,
   "id": "b993b5bb",
   "metadata": {},
   "outputs": [],
   "source": [
    "import pandas as pd\n",
    "from binance.client import Client\n",
    "client = Client(api_key = api_key, api_secret=secret_key, tld=\"com\", testnet=True)"
   ]
  },
  {
   "cell_type": "code",
   "execution_count": 35,
   "id": "21216ec0",
   "metadata": {},
   "outputs": [
    {
     "data": {
      "text/plain": [
       "{'makerCommission': 0,\n",
       " 'takerCommission': 0,\n",
       " 'buyerCommission': 0,\n",
       " 'sellerCommission': 0,\n",
       " 'canTrade': True,\n",
       " 'canWithdraw': False,\n",
       " 'canDeposit': False,\n",
       " 'updateTime': 1643206165733,\n",
       " 'accountType': 'SPOT',\n",
       " 'balances': [{'asset': 'BNB',\n",
       "   'free': '1000.00000000',\n",
       "   'locked': '0.00000000'},\n",
       "  {'asset': 'BTC', 'free': '1.00000000', 'locked': '0.00000000'},\n",
       "  {'asset': 'BUSD', 'free': '10000.00000000', 'locked': '0.00000000'},\n",
       "  {'asset': 'ETH', 'free': '100.00000000', 'locked': '0.00000000'},\n",
       "  {'asset': 'LTC', 'free': '500.00000000', 'locked': '0.00000000'},\n",
       "  {'asset': 'TRX', 'free': '500000.00000000', 'locked': '0.00000000'},\n",
       "  {'asset': 'USDT', 'free': '10000.00000000', 'locked': '0.00000000'},\n",
       "  {'asset': 'XRP', 'free': '50000.00000000', 'locked': '0.00000000'}],\n",
       " 'permissions': ['SPOT']}"
      ]
     },
     "execution_count": 35,
     "metadata": {},
     "output_type": "execute_result"
    }
   ],
   "source": [
    "client.get_account()"
   ]
  },
  {
   "cell_type": "code",
   "execution_count": 36,
   "id": "9547f071",
   "metadata": {},
   "outputs": [],
   "source": [
    "#buy 0.1 BTC\n",
    "order = client.create_order(symbol=\"BTCUSDT\", side=\"BUY\", type=\"MARKET\", quantity=0.1)"
   ]
  },
  {
   "cell_type": "code",
   "execution_count": 37,
   "id": "9495cdce",
   "metadata": {},
   "outputs": [
    {
     "data": {
      "text/plain": [
       "{'symbol': 'BTCUSDT',\n",
       " 'orderId': 11726931,\n",
       " 'orderListId': -1,\n",
       " 'clientOrderId': '9hdByAf3AYUGK4YAwFKxT2',\n",
       " 'transactTime': 1643473661439,\n",
       " 'price': '0.00000000',\n",
       " 'origQty': '0.10000000',\n",
       " 'executedQty': '0.10000000',\n",
       " 'cummulativeQuoteQty': '3750.10167250',\n",
       " 'status': 'FILLED',\n",
       " 'timeInForce': 'GTC',\n",
       " 'type': 'MARKET',\n",
       " 'side': 'BUY',\n",
       " 'fills': [{'price': '37501.01000000',\n",
       "   'qty': '0.09973100',\n",
       "   'commission': '0.00000000',\n",
       "   'commissionAsset': 'BTC',\n",
       "   'tradeId': 2592982},\n",
       "  {'price': '37503.51000000',\n",
       "   'qty': '0.00026900',\n",
       "   'commission': '0.00000000',\n",
       "   'commissionAsset': 'BTC',\n",
       "   'tradeId': 2592983}]}"
      ]
     },
     "execution_count": 37,
     "metadata": {},
     "output_type": "execute_result"
    }
   ],
   "source": [
    "order"
   ]
  },
  {
   "cell_type": "code",
   "execution_count": 38,
   "id": "e5bd6517",
   "metadata": {},
   "outputs": [
    {
     "data": {
      "text/html": [
       "<div>\n",
       "<style scoped>\n",
       "    .dataframe tbody tr th:only-of-type {\n",
       "        vertical-align: middle;\n",
       "    }\n",
       "\n",
       "    .dataframe tbody tr th {\n",
       "        vertical-align: top;\n",
       "    }\n",
       "\n",
       "    .dataframe thead th {\n",
       "        text-align: right;\n",
       "    }\n",
       "</style>\n",
       "<table border=\"1\" class=\"dataframe\">\n",
       "  <thead>\n",
       "    <tr style=\"text-align: right;\">\n",
       "      <th></th>\n",
       "      <th>price</th>\n",
       "      <th>qty</th>\n",
       "      <th>commission</th>\n",
       "      <th>commissionAsset</th>\n",
       "      <th>tradeId</th>\n",
       "    </tr>\n",
       "  </thead>\n",
       "  <tbody>\n",
       "    <tr>\n",
       "      <th>0</th>\n",
       "      <td>37501.01000000</td>\n",
       "      <td>0.09973100</td>\n",
       "      <td>0.00000000</td>\n",
       "      <td>BTC</td>\n",
       "      <td>2592982</td>\n",
       "    </tr>\n",
       "    <tr>\n",
       "      <th>1</th>\n",
       "      <td>37503.51000000</td>\n",
       "      <td>0.00026900</td>\n",
       "      <td>0.00000000</td>\n",
       "      <td>BTC</td>\n",
       "      <td>2592983</td>\n",
       "    </tr>\n",
       "  </tbody>\n",
       "</table>\n",
       "</div>"
      ],
      "text/plain": [
       "            price         qty  commission commissionAsset  tradeId\n",
       "0  37501.01000000  0.09973100  0.00000000             BTC  2592982\n",
       "1  37503.51000000  0.00026900  0.00000000             BTC  2592983"
      ]
     },
     "execution_count": 38,
     "metadata": {},
     "output_type": "execute_result"
    }
   ],
   "source": [
    "df = pd.DataFrame(order[\"fills\"])\n",
    "df"
   ]
  },
  {
   "cell_type": "code",
   "execution_count": 39,
   "id": "932e6541",
   "metadata": {},
   "outputs": [
    {
     "name": "stdout",
     "output_type": "stream",
     "text": [
      "<class 'pandas.core.frame.DataFrame'>\n",
      "RangeIndex: 2 entries, 0 to 1\n",
      "Data columns (total 5 columns):\n",
      " #   Column           Non-Null Count  Dtype \n",
      "---  ------           --------------  ----- \n",
      " 0   price            2 non-null      object\n",
      " 1   qty              2 non-null      object\n",
      " 2   commission       2 non-null      object\n",
      " 3   commissionAsset  2 non-null      object\n",
      " 4   tradeId          2 non-null      int64 \n",
      "dtypes: int64(1), object(4)\n",
      "memory usage: 208.0+ bytes\n"
     ]
    }
   ],
   "source": [
    "df.info()"
   ]
  },
  {
   "cell_type": "code",
   "execution_count": 40,
   "id": "e198b80b",
   "metadata": {},
   "outputs": [],
   "source": [
    "num_columns = [\"price\", \"qty\", \"commission\"]"
   ]
  },
  {
   "cell_type": "code",
   "execution_count": 41,
   "id": "74e2fb5a",
   "metadata": {},
   "outputs": [],
   "source": [
    "for column in num_columns:\n",
    "    df[column] = pd.to_numeric(df[column],errors=\"coerce\")"
   ]
  },
  {
   "cell_type": "code",
   "execution_count": 42,
   "id": "5c4acd77",
   "metadata": {},
   "outputs": [
    {
     "name": "stdout",
     "output_type": "stream",
     "text": [
      "<class 'pandas.core.frame.DataFrame'>\n",
      "RangeIndex: 2 entries, 0 to 1\n",
      "Data columns (total 5 columns):\n",
      " #   Column           Non-Null Count  Dtype  \n",
      "---  ------           --------------  -----  \n",
      " 0   price            2 non-null      float64\n",
      " 1   qty              2 non-null      float64\n",
      " 2   commission       2 non-null      float64\n",
      " 3   commissionAsset  2 non-null      object \n",
      " 4   tradeId          2 non-null      int64  \n",
      "dtypes: float64(3), int64(1), object(1)\n",
      "memory usage: 208.0+ bytes\n"
     ]
    }
   ],
   "source": [
    "df.info()"
   ]
  },
  {
   "cell_type": "code",
   "execution_count": 43,
   "id": "a9338aae",
   "metadata": {},
   "outputs": [
    {
     "data": {
      "text/plain": [
       "0.1"
      ]
     },
     "execution_count": 43,
     "metadata": {},
     "output_type": "execute_result"
    }
   ],
   "source": [
    "df.qty.sum()"
   ]
  },
  {
   "cell_type": "code",
   "execution_count": 44,
   "id": "fdae722f",
   "metadata": {},
   "outputs": [
    {
     "data": {
      "text/plain": [
       "3750.1016725"
      ]
     },
     "execution_count": 44,
     "metadata": {},
     "output_type": "execute_result"
    }
   ],
   "source": [
    "df.price.mul(df.qty).sum()"
   ]
  },
  {
   "cell_type": "code",
   "execution_count": 45,
   "id": "548a2a69",
   "metadata": {},
   "outputs": [
    {
     "data": {
      "text/plain": [
       "{'makerCommission': 0,\n",
       " 'takerCommission': 0,\n",
       " 'buyerCommission': 0,\n",
       " 'sellerCommission': 0,\n",
       " 'canTrade': True,\n",
       " 'canWithdraw': False,\n",
       " 'canDeposit': False,\n",
       " 'updateTime': 1643473661439,\n",
       " 'accountType': 'SPOT',\n",
       " 'balances': [{'asset': 'BNB',\n",
       "   'free': '1000.00000000',\n",
       "   'locked': '0.00000000'},\n",
       "  {'asset': 'BTC', 'free': '1.10000000', 'locked': '0.00000000'},\n",
       "  {'asset': 'BUSD', 'free': '10000.00000000', 'locked': '0.00000000'},\n",
       "  {'asset': 'ETH', 'free': '100.00000000', 'locked': '0.00000000'},\n",
       "  {'asset': 'LTC', 'free': '500.00000000', 'locked': '0.00000000'},\n",
       "  {'asset': 'TRX', 'free': '500000.00000000', 'locked': '0.00000000'},\n",
       "  {'asset': 'USDT', 'free': '6249.89832750', 'locked': '0.00000000'},\n",
       "  {'asset': 'XRP', 'free': '50000.00000000', 'locked': '0.00000000'}],\n",
       " 'permissions': ['SPOT']}"
      ]
     },
     "execution_count": 45,
     "metadata": {},
     "output_type": "execute_result"
    }
   ],
   "source": [
    "client.get_account()"
   ]
  },
  {
   "cell_type": "code",
   "execution_count": 47,
   "id": "a8305ead",
   "metadata": {},
   "outputs": [],
   "source": [
    "#buy BTC for 1000$\n",
    "order = client.create_order(symbol=\"BTCUSDT\", side=\"BUY\", type=\"MARKET\", quoteOrderQty=1000)\n"
   ]
  },
  {
   "cell_type": "code",
   "execution_count": 48,
   "id": "4800dcd5",
   "metadata": {},
   "outputs": [
    {
     "data": {
      "text/plain": [
       "{'symbol': 'BTCUSDT',\n",
       " 'orderId': 11729994,\n",
       " 'orderListId': -1,\n",
       " 'clientOrderId': '9Iv3dxzghWtx1rHggAUqbk',\n",
       " 'transactTime': 1643474396026,\n",
       " 'price': '0.00000000',\n",
       " 'origQty': '0.02668000',\n",
       " 'executedQty': '0.02668000',\n",
       " 'cummulativeQuoteQty': '999.96666680',\n",
       " 'status': 'FILLED',\n",
       " 'timeInForce': 'GTC',\n",
       " 'type': 'MARKET',\n",
       " 'side': 'BUY',\n",
       " 'fills': [{'price': '37480.01000000',\n",
       "   'qty': '0.02668000',\n",
       "   'commission': '0.00000000',\n",
       "   'commissionAsset': 'BTC',\n",
       "   'tradeId': 2593498}]}"
      ]
     },
     "execution_count": 48,
     "metadata": {},
     "output_type": "execute_result"
    }
   ],
   "source": [
    "order"
   ]
  },
  {
   "cell_type": "code",
   "execution_count": 50,
   "id": "4ff063fb",
   "metadata": {},
   "outputs": [
    {
     "data": {
      "text/plain": [
       "37480.01"
      ]
     },
     "execution_count": 50,
     "metadata": {},
     "output_type": "execute_result"
    }
   ],
   "source": [
    "avg_price = float(order[\"cummulativeQuoteQty\"]) / float(order[\"origQty\"])\n",
    "avg_price"
   ]
  },
  {
   "cell_type": "code",
   "execution_count": 51,
   "id": "3a6d83ee",
   "metadata": {},
   "outputs": [
    {
     "data": {
      "text/plain": [
       "{'makerCommission': 0,\n",
       " 'takerCommission': 0,\n",
       " 'buyerCommission': 0,\n",
       " 'sellerCommission': 0,\n",
       " 'canTrade': True,\n",
       " 'canWithdraw': False,\n",
       " 'canDeposit': False,\n",
       " 'updateTime': 1643474396026,\n",
       " 'accountType': 'SPOT',\n",
       " 'balances': [{'asset': 'BNB',\n",
       "   'free': '1000.00000000',\n",
       "   'locked': '0.00000000'},\n",
       "  {'asset': 'BTC', 'free': '1.12668000', 'locked': '0.00000000'},\n",
       "  {'asset': 'BUSD', 'free': '10000.00000000', 'locked': '0.00000000'},\n",
       "  {'asset': 'ETH', 'free': '100.00000000', 'locked': '0.00000000'},\n",
       "  {'asset': 'LTC', 'free': '500.00000000', 'locked': '0.00000000'},\n",
       "  {'asset': 'TRX', 'free': '500000.00000000', 'locked': '0.00000000'},\n",
       "  {'asset': 'USDT', 'free': '5249.93166070', 'locked': '0.00000000'},\n",
       "  {'asset': 'XRP', 'free': '50000.00000000', 'locked': '0.00000000'}],\n",
       " 'permissions': ['SPOT']}"
      ]
     },
     "execution_count": 51,
     "metadata": {},
     "output_type": "execute_result"
    }
   ],
   "source": [
    "client.get_account()"
   ]
  },
  {
   "cell_type": "markdown",
   "id": "4442b893",
   "metadata": {},
   "source": [
    "## Placing a Market SEll order"
   ]
  },
  {
   "cell_type": "code",
   "execution_count": 52,
   "id": "eef0511d",
   "metadata": {},
   "outputs": [
    {
     "data": {
      "text/plain": [
       "{'symbol': 'BTCUSDT',\n",
       " 'orderId': 11731118,\n",
       " 'orderListId': -1,\n",
       " 'clientOrderId': 'ACGRX34eExW2ht3pubSVqf',\n",
       " 'transactTime': 1643474666523,\n",
       " 'price': '0.00000000',\n",
       " 'origQty': '0.20000000',\n",
       " 'executedQty': '0.20000000',\n",
       " 'cummulativeQuoteQty': '7500.42215522',\n",
       " 'status': 'FILLED',\n",
       " 'timeInForce': 'GTC',\n",
       " 'type': 'MARKET',\n",
       " 'side': 'SELL',\n",
       " 'fills': [{'price': '37504.68000000',\n",
       "   'qty': '0.01146000',\n",
       "   'commission': '0.00000000',\n",
       "   'commissionAsset': 'USDT',\n",
       "   'tradeId': 2593668},\n",
       "  {'price': '37503.28000000',\n",
       "   'qty': '0.07359400',\n",
       "   'commission': '0.00000000',\n",
       "   'commissionAsset': 'USDT',\n",
       "   'tradeId': 2593669},\n",
       "  {'price': '37501.14000000',\n",
       "   'qty': '0.09719900',\n",
       "   'commission': '0.00000000',\n",
       "   'commissionAsset': 'USDT',\n",
       "   'tradeId': 2593670},\n",
       "  {'price': '37500.92000000',\n",
       "   'qty': '0.01774700',\n",
       "   'commission': '0.00000000',\n",
       "   'commissionAsset': 'USDT',\n",
       "   'tradeId': 2593671}]}"
      ]
     },
     "execution_count": 52,
     "metadata": {},
     "output_type": "execute_result"
    }
   ],
   "source": [
    "#sell 0.2 BTC \n",
    "order = client.create_order(symbol=\"BTCUSDT\", side=\"SELL\", type=\"MARKET\", quantity=0.2)\n",
    "order\n"
   ]
  },
  {
   "cell_type": "code",
   "execution_count": 53,
   "id": "d847048a",
   "metadata": {},
   "outputs": [
    {
     "data": {
      "text/plain": [
       "{'makerCommission': 0,\n",
       " 'takerCommission': 0,\n",
       " 'buyerCommission': 0,\n",
       " 'sellerCommission': 0,\n",
       " 'canTrade': True,\n",
       " 'canWithdraw': False,\n",
       " 'canDeposit': False,\n",
       " 'updateTime': 1643474666523,\n",
       " 'accountType': 'SPOT',\n",
       " 'balances': [{'asset': 'BNB',\n",
       "   'free': '1000.00000000',\n",
       "   'locked': '0.00000000'},\n",
       "  {'asset': 'BTC', 'free': '0.92668000', 'locked': '0.00000000'},\n",
       "  {'asset': 'BUSD', 'free': '10000.00000000', 'locked': '0.00000000'},\n",
       "  {'asset': 'ETH', 'free': '100.00000000', 'locked': '0.00000000'},\n",
       "  {'asset': 'LTC', 'free': '500.00000000', 'locked': '0.00000000'},\n",
       "  {'asset': 'TRX', 'free': '500000.00000000', 'locked': '0.00000000'},\n",
       "  {'asset': 'USDT', 'free': '12750.35381592', 'locked': '0.00000000'},\n",
       "  {'asset': 'XRP', 'free': '50000.00000000', 'locked': '0.00000000'}],\n",
       " 'permissions': ['SPOT']}"
      ]
     },
     "execution_count": 53,
     "metadata": {},
     "output_type": "execute_result"
    }
   ],
   "source": [
    "client.get_account()"
   ]
  },
  {
   "cell_type": "markdown",
   "id": "65f903df",
   "metadata": {},
   "source": [
    "## PLacing limit orders"
   ]
  },
  {
   "cell_type": "code",
   "execution_count": 54,
   "id": "e9e41628",
   "metadata": {},
   "outputs": [],
   "source": [
    "import pandas as pd\n",
    "from binance.client import Client\n",
    "client = Client(api_key = api_key, api_secret=secret_key, tld=\"com\", testnet=True)"
   ]
  },
  {
   "cell_type": "code",
   "execution_count": 55,
   "id": "17e34c64",
   "metadata": {},
   "outputs": [
    {
     "data": {
      "text/plain": [
       "{'makerCommission': 0,\n",
       " 'takerCommission': 0,\n",
       " 'buyerCommission': 0,\n",
       " 'sellerCommission': 0,\n",
       " 'canTrade': True,\n",
       " 'canWithdraw': False,\n",
       " 'canDeposit': False,\n",
       " 'updateTime': 1643474666523,\n",
       " 'accountType': 'SPOT',\n",
       " 'balances': [{'asset': 'BNB',\n",
       "   'free': '1000.00000000',\n",
       "   'locked': '0.00000000'},\n",
       "  {'asset': 'BTC', 'free': '0.92668000', 'locked': '0.00000000'},\n",
       "  {'asset': 'BUSD', 'free': '10000.00000000', 'locked': '0.00000000'},\n",
       "  {'asset': 'ETH', 'free': '100.00000000', 'locked': '0.00000000'},\n",
       "  {'asset': 'LTC', 'free': '500.00000000', 'locked': '0.00000000'},\n",
       "  {'asset': 'TRX', 'free': '500000.00000000', 'locked': '0.00000000'},\n",
       "  {'asset': 'USDT', 'free': '12750.35381592', 'locked': '0.00000000'},\n",
       "  {'asset': 'XRP', 'free': '50000.00000000', 'locked': '0.00000000'}],\n",
       " 'permissions': ['SPOT']}"
      ]
     },
     "execution_count": 55,
     "metadata": {},
     "output_type": "execute_result"
    }
   ],
   "source": [
    "client.get_account()"
   ]
  },
  {
   "cell_type": "code",
   "execution_count": 69,
   "id": "5513e52a",
   "metadata": {},
   "outputs": [
    {
     "data": {
      "text/plain": [
       "{'symbol': 'BTCUSDT', 'price': '37843.99000000'}"
      ]
     },
     "execution_count": 69,
     "metadata": {},
     "output_type": "execute_result"
    }
   ],
   "source": [
    "client.get_symbol_ticker(symbol=\"BTCUSDT\")"
   ]
  },
  {
   "cell_type": "code",
   "execution_count": 61,
   "id": "44aefb56",
   "metadata": {},
   "outputs": [
    {
     "data": {
      "text/plain": [
       "[{'symbol': 'BTCUSDT',\n",
       "  'id': 2592982,\n",
       "  'orderId': 11726931,\n",
       "  'orderListId': -1,\n",
       "  'price': '37501.01000000',\n",
       "  'qty': '0.09973100',\n",
       "  'quoteQty': '3740.01322831',\n",
       "  'commission': '0.00000000',\n",
       "  'commissionAsset': 'BTC',\n",
       "  'time': 1643473661439,\n",
       "  'isBuyer': True,\n",
       "  'isMaker': False,\n",
       "  'isBestMatch': True},\n",
       " {'symbol': 'BTCUSDT',\n",
       "  'id': 2592983,\n",
       "  'orderId': 11726931,\n",
       "  'orderListId': -1,\n",
       "  'price': '37503.51000000',\n",
       "  'qty': '0.00026900',\n",
       "  'quoteQty': '10.08844419',\n",
       "  'commission': '0.00000000',\n",
       "  'commissionAsset': 'BTC',\n",
       "  'time': 1643473661439,\n",
       "  'isBuyer': True,\n",
       "  'isMaker': False,\n",
       "  'isBestMatch': True},\n",
       " {'symbol': 'BTCUSDT',\n",
       "  'id': 2593498,\n",
       "  'orderId': 11729994,\n",
       "  'orderListId': -1,\n",
       "  'price': '37480.01000000',\n",
       "  'qty': '0.02668000',\n",
       "  'quoteQty': '999.96666680',\n",
       "  'commission': '0.00000000',\n",
       "  'commissionAsset': 'BTC',\n",
       "  'time': 1643474396026,\n",
       "  'isBuyer': True,\n",
       "  'isMaker': False,\n",
       "  'isBestMatch': True},\n",
       " {'symbol': 'BTCUSDT',\n",
       "  'id': 2593668,\n",
       "  'orderId': 11731118,\n",
       "  'orderListId': -1,\n",
       "  'price': '37504.68000000',\n",
       "  'qty': '0.01146000',\n",
       "  'quoteQty': '429.80363280',\n",
       "  'commission': '0.00000000',\n",
       "  'commissionAsset': 'USDT',\n",
       "  'time': 1643474666523,\n",
       "  'isBuyer': False,\n",
       "  'isMaker': False,\n",
       "  'isBestMatch': True},\n",
       " {'symbol': 'BTCUSDT',\n",
       "  'id': 2593669,\n",
       "  'orderId': 11731118,\n",
       "  'orderListId': -1,\n",
       "  'price': '37503.28000000',\n",
       "  'qty': '0.07359400',\n",
       "  'quoteQty': '2760.01638832',\n",
       "  'commission': '0.00000000',\n",
       "  'commissionAsset': 'USDT',\n",
       "  'time': 1643474666523,\n",
       "  'isBuyer': False,\n",
       "  'isMaker': False,\n",
       "  'isBestMatch': True},\n",
       " {'symbol': 'BTCUSDT',\n",
       "  'id': 2593670,\n",
       "  'orderId': 11731118,\n",
       "  'orderListId': -1,\n",
       "  'price': '37501.14000000',\n",
       "  'qty': '0.09719900',\n",
       "  'quoteQty': '3645.07330686',\n",
       "  'commission': '0.00000000',\n",
       "  'commissionAsset': 'USDT',\n",
       "  'time': 1643474666523,\n",
       "  'isBuyer': False,\n",
       "  'isMaker': False,\n",
       "  'isBestMatch': True},\n",
       " {'symbol': 'BTCUSDT',\n",
       "  'id': 2593671,\n",
       "  'orderId': 11731118,\n",
       "  'orderListId': -1,\n",
       "  'price': '37500.92000000',\n",
       "  'qty': '0.01774700',\n",
       "  'quoteQty': '665.52882724',\n",
       "  'commission': '0.00000000',\n",
       "  'commissionAsset': 'USDT',\n",
       "  'time': 1643474666523,\n",
       "  'isBuyer': False,\n",
       "  'isMaker': False,\n",
       "  'isBestMatch': True}]"
      ]
     },
     "execution_count": 61,
     "metadata": {},
     "output_type": "execute_result"
    }
   ],
   "source": [
    "client.get_my_trades(symbol=\"BTCUSDT\")"
   ]
  },
  {
   "cell_type": "markdown",
   "id": "c7d0c3d3",
   "metadata": {},
   "source": [
    "#### Limit buy order"
   ]
  },
  {
   "cell_type": "code",
   "execution_count": 70,
   "id": "b8e69fe7",
   "metadata": {
    "scrolled": true
   },
   "outputs": [
    {
     "data": {
      "text/plain": [
       "{'symbol': 'BTCUSDT',\n",
       " 'orderId': 11763707,\n",
       " 'orderListId': -1,\n",
       " 'clientOrderId': 'VRV1UAUH5TFpWamOB6zzjF',\n",
       " 'transactTime': 1643482534053,\n",
       " 'price': '37777.00000000',\n",
       " 'origQty': '0.10000000',\n",
       " 'executedQty': '0.00000000',\n",
       " 'cummulativeQuoteQty': '0.00000000',\n",
       " 'status': 'NEW',\n",
       " 'timeInForce': 'GTC',\n",
       " 'type': 'LIMIT',\n",
       " 'side': 'BUY',\n",
       " 'fills': []}"
      ]
     },
     "execution_count": 70,
     "metadata": {},
     "output_type": "execute_result"
    }
   ],
   "source": [
    "orderlimit=client.create_order(symbol=\"BTCUSDT\", side=\"BUY\", type=\"LIMIT\", quantity=\"0.1\", timeInForce=\"GTC\", price=37777)\n",
    "orderlimit"
   ]
  },
  {
   "cell_type": "code",
   "execution_count": 65,
   "id": "1ab36936",
   "metadata": {},
   "outputs": [
    {
     "data": {
      "text/plain": [
       "11749074"
      ]
     },
     "execution_count": 65,
     "metadata": {},
     "output_type": "execute_result"
    }
   ],
   "source": [
    "order_id_buy = orderlimit[\"orderId\"]\n",
    "order_id_buy"
   ]
  },
  {
   "cell_type": "code",
   "execution_count": 66,
   "id": "8569bcb0",
   "metadata": {},
   "outputs": [
    {
     "data": {
      "text/plain": [
       "{'symbol': 'BTCUSDT',\n",
       " 'orderId': 11749074,\n",
       " 'orderListId': -1,\n",
       " 'clientOrderId': '7K3l7U0hgGpLFrjUl0bKI8',\n",
       " 'price': '40000.00000000',\n",
       " 'origQty': '0.10000000',\n",
       " 'executedQty': '0.10000000',\n",
       " 'cummulativeQuoteQty': '3761.32205828',\n",
       " 'status': 'FILLED',\n",
       " 'timeInForce': 'GTC',\n",
       " 'type': 'LIMIT',\n",
       " 'side': 'BUY',\n",
       " 'stopPrice': '0.00000000',\n",
       " 'icebergQty': '0.00000000',\n",
       " 'time': 1643479010994,\n",
       " 'updateTime': 1643479010994,\n",
       " 'isWorking': True,\n",
       " 'origQuoteOrderQty': '0.00000000'}"
      ]
     },
     "execution_count": 66,
     "metadata": {},
     "output_type": "execute_result"
    }
   ],
   "source": [
    "client.get_order(symbol=\"BTCUSDT\", orderId=order_id_buy)"
   ]
  },
  {
   "cell_type": "markdown",
   "id": "3d341025",
   "metadata": {},
   "source": [
    "#### Limit sell order"
   ]
  },
  {
   "cell_type": "code",
   "execution_count": 73,
   "id": "da60727f",
   "metadata": {},
   "outputs": [
    {
     "data": {
      "text/plain": [
       "{'symbol': 'BTCUSDT',\n",
       " 'orderId': 11764497,\n",
       " 'orderListId': -1,\n",
       " 'clientOrderId': 'Q7eOTZK7MyPrFOXs1iQWuc',\n",
       " 'transactTime': 1643482719246,\n",
       " 'price': '42569.00000000',\n",
       " 'origQty': '0.10000000',\n",
       " 'executedQty': '0.00000000',\n",
       " 'cummulativeQuoteQty': '0.00000000',\n",
       " 'status': 'NEW',\n",
       " 'timeInForce': 'GTC',\n",
       " 'type': 'LIMIT',\n",
       " 'side': 'SELL',\n",
       " 'fills': []}"
      ]
     },
     "execution_count": 73,
     "metadata": {},
     "output_type": "execute_result"
    }
   ],
   "source": [
    "orderlimit=client.create_order(symbol=\"BTCUSDT\", side=\"SELL\", type=\"LIMIT\", quantity=\"0.1\", timeInForce=\"GTC\", price=42569)\n",
    "orderlimit"
   ]
  },
  {
   "cell_type": "code",
   "execution_count": 74,
   "id": "28a2d11d",
   "metadata": {},
   "outputs": [
    {
     "data": {
      "text/plain": [
       "[{'symbol': 'BTCUSDT',\n",
       "  'orderId': 11763707,\n",
       "  'orderListId': -1,\n",
       "  'clientOrderId': 'VRV1UAUH5TFpWamOB6zzjF',\n",
       "  'price': '37777.00000000',\n",
       "  'origQty': '0.10000000',\n",
       "  'executedQty': '0.00000000',\n",
       "  'cummulativeQuoteQty': '0.00000000',\n",
       "  'status': 'NEW',\n",
       "  'timeInForce': 'GTC',\n",
       "  'type': 'LIMIT',\n",
       "  'side': 'BUY',\n",
       "  'stopPrice': '0.00000000',\n",
       "  'icebergQty': '0.00000000',\n",
       "  'time': 1643482534053,\n",
       "  'updateTime': 1643482534053,\n",
       "  'isWorking': True,\n",
       "  'origQuoteOrderQty': '0.00000000'},\n",
       " {'symbol': 'BTCUSDT',\n",
       "  'orderId': 11764497,\n",
       "  'orderListId': -1,\n",
       "  'clientOrderId': 'Q7eOTZK7MyPrFOXs1iQWuc',\n",
       "  'price': '42569.00000000',\n",
       "  'origQty': '0.10000000',\n",
       "  'executedQty': '0.00000000',\n",
       "  'cummulativeQuoteQty': '0.00000000',\n",
       "  'status': 'NEW',\n",
       "  'timeInForce': 'GTC',\n",
       "  'type': 'LIMIT',\n",
       "  'side': 'SELL',\n",
       "  'stopPrice': '0.00000000',\n",
       "  'icebergQty': '0.00000000',\n",
       "  'time': 1643482719246,\n",
       "  'updateTime': 1643482719246,\n",
       "  'isWorking': True,\n",
       "  'origQuoteOrderQty': '0.00000000'}]"
      ]
     },
     "execution_count": 74,
     "metadata": {},
     "output_type": "execute_result"
    }
   ],
   "source": [
    "open_orders = client.get_open_orders(symbol=\"BTCUSDT\")\n",
    "open_orders"
   ]
  },
  {
   "cell_type": "code",
   "execution_count": 75,
   "id": "c230468a",
   "metadata": {},
   "outputs": [
    {
     "data": {
      "text/html": [
       "<div>\n",
       "<style scoped>\n",
       "    .dataframe tbody tr th:only-of-type {\n",
       "        vertical-align: middle;\n",
       "    }\n",
       "\n",
       "    .dataframe tbody tr th {\n",
       "        vertical-align: top;\n",
       "    }\n",
       "\n",
       "    .dataframe thead th {\n",
       "        text-align: right;\n",
       "    }\n",
       "</style>\n",
       "<table border=\"1\" class=\"dataframe\">\n",
       "  <thead>\n",
       "    <tr style=\"text-align: right;\">\n",
       "      <th></th>\n",
       "      <th>symbol</th>\n",
       "      <th>orderId</th>\n",
       "      <th>orderListId</th>\n",
       "      <th>clientOrderId</th>\n",
       "      <th>price</th>\n",
       "      <th>origQty</th>\n",
       "      <th>executedQty</th>\n",
       "      <th>cummulativeQuoteQty</th>\n",
       "      <th>status</th>\n",
       "      <th>timeInForce</th>\n",
       "      <th>type</th>\n",
       "      <th>side</th>\n",
       "      <th>stopPrice</th>\n",
       "      <th>icebergQty</th>\n",
       "      <th>time</th>\n",
       "      <th>updateTime</th>\n",
       "      <th>isWorking</th>\n",
       "      <th>origQuoteOrderQty</th>\n",
       "    </tr>\n",
       "  </thead>\n",
       "  <tbody>\n",
       "    <tr>\n",
       "      <th>0</th>\n",
       "      <td>BTCUSDT</td>\n",
       "      <td>11763707</td>\n",
       "      <td>-1</td>\n",
       "      <td>VRV1UAUH5TFpWamOB6zzjF</td>\n",
       "      <td>37777.00000000</td>\n",
       "      <td>0.10000000</td>\n",
       "      <td>0.00000000</td>\n",
       "      <td>0.00000000</td>\n",
       "      <td>NEW</td>\n",
       "      <td>GTC</td>\n",
       "      <td>LIMIT</td>\n",
       "      <td>BUY</td>\n",
       "      <td>0.00000000</td>\n",
       "      <td>0.00000000</td>\n",
       "      <td>1643482534053</td>\n",
       "      <td>1643482534053</td>\n",
       "      <td>True</td>\n",
       "      <td>0.00000000</td>\n",
       "    </tr>\n",
       "    <tr>\n",
       "      <th>1</th>\n",
       "      <td>BTCUSDT</td>\n",
       "      <td>11764497</td>\n",
       "      <td>-1</td>\n",
       "      <td>Q7eOTZK7MyPrFOXs1iQWuc</td>\n",
       "      <td>42569.00000000</td>\n",
       "      <td>0.10000000</td>\n",
       "      <td>0.00000000</td>\n",
       "      <td>0.00000000</td>\n",
       "      <td>NEW</td>\n",
       "      <td>GTC</td>\n",
       "      <td>LIMIT</td>\n",
       "      <td>SELL</td>\n",
       "      <td>0.00000000</td>\n",
       "      <td>0.00000000</td>\n",
       "      <td>1643482719246</td>\n",
       "      <td>1643482719246</td>\n",
       "      <td>True</td>\n",
       "      <td>0.00000000</td>\n",
       "    </tr>\n",
       "  </tbody>\n",
       "</table>\n",
       "</div>"
      ],
      "text/plain": [
       "    symbol   orderId  orderListId           clientOrderId           price  \\\n",
       "0  BTCUSDT  11763707           -1  VRV1UAUH5TFpWamOB6zzjF  37777.00000000   \n",
       "1  BTCUSDT  11764497           -1  Q7eOTZK7MyPrFOXs1iQWuc  42569.00000000   \n",
       "\n",
       "      origQty executedQty cummulativeQuoteQty status timeInForce   type  side  \\\n",
       "0  0.10000000  0.00000000          0.00000000    NEW         GTC  LIMIT   BUY   \n",
       "1  0.10000000  0.00000000          0.00000000    NEW         GTC  LIMIT  SELL   \n",
       "\n",
       "    stopPrice  icebergQty           time     updateTime  isWorking  \\\n",
       "0  0.00000000  0.00000000  1643482534053  1643482534053       True   \n",
       "1  0.00000000  0.00000000  1643482719246  1643482719246       True   \n",
       "\n",
       "  origQuoteOrderQty  \n",
       "0        0.00000000  \n",
       "1        0.00000000  "
      ]
     },
     "execution_count": 75,
     "metadata": {},
     "output_type": "execute_result"
    }
   ],
   "source": [
    "pd.DataFrame(open_orders)"
   ]
  },
  {
   "cell_type": "code",
   "execution_count": 95,
   "id": "57b8746e",
   "metadata": {},
   "outputs": [
    {
     "data": {
      "text/plain": [
       "{'symbol': 'BTCUSDT',\n",
       " 'origClientOrderId': 'Q7eOTZK7MyPrFOXs1iQWuc',\n",
       " 'orderId': 11764497,\n",
       " 'orderListId': -1,\n",
       " 'clientOrderId': 'Jmm2ovWzwUvbTk4ZrCvidn',\n",
       " 'price': '42569.00000000',\n",
       " 'origQty': '0.10000000',\n",
       " 'executedQty': '0.00000000',\n",
       " 'cummulativeQuoteQty': '0.00000000',\n",
       " 'status': 'CANCELED',\n",
       " 'timeInForce': 'GTC',\n",
       " 'type': 'LIMIT',\n",
       " 'side': 'SELL'}"
      ]
     },
     "execution_count": 95,
     "metadata": {},
     "output_type": "execute_result"
    }
   ],
   "source": [
    "result = client.cancel_order(symbol=\"BTCUSDT\", orderId=11764497)\n",
    "result"
   ]
  },
  {
   "cell_type": "markdown",
   "id": "55487314",
   "metadata": {},
   "source": [
    "## REporting: Getting all (historical) Orders and TRaders"
   ]
  },
  {
   "cell_type": "code",
   "execution_count": 78,
   "id": "537dcd9f",
   "metadata": {},
   "outputs": [],
   "source": [
    "import pandas as pd\n",
    "from binance.client import Client\n",
    "client = Client(api_key = api_key, api_secret=secret_key, tld=\"com\", testnet=True)"
   ]
  },
  {
   "cell_type": "code",
   "execution_count": 79,
   "id": "85069966",
   "metadata": {},
   "outputs": [
    {
     "data": {
      "text/plain": [
       "[{'symbol': 'BTCUSDT',\n",
       "  'orderId': 11726931,\n",
       "  'orderListId': -1,\n",
       "  'clientOrderId': '9hdByAf3AYUGK4YAwFKxT2',\n",
       "  'price': '0.00000000',\n",
       "  'origQty': '0.10000000',\n",
       "  'executedQty': '0.10000000',\n",
       "  'cummulativeQuoteQty': '3750.10167250',\n",
       "  'status': 'FILLED',\n",
       "  'timeInForce': 'GTC',\n",
       "  'type': 'MARKET',\n",
       "  'side': 'BUY',\n",
       "  'stopPrice': '0.00000000',\n",
       "  'icebergQty': '0.00000000',\n",
       "  'time': 1643473661439,\n",
       "  'updateTime': 1643473661439,\n",
       "  'isWorking': True,\n",
       "  'origQuoteOrderQty': '0.00000000'},\n",
       " {'symbol': 'BTCUSDT',\n",
       "  'orderId': 11729994,\n",
       "  'orderListId': -1,\n",
       "  'clientOrderId': '9Iv3dxzghWtx1rHggAUqbk',\n",
       "  'price': '0.00000000',\n",
       "  'origQty': '0.02668000',\n",
       "  'executedQty': '0.02668000',\n",
       "  'cummulativeQuoteQty': '999.96666680',\n",
       "  'status': 'FILLED',\n",
       "  'timeInForce': 'GTC',\n",
       "  'type': 'MARKET',\n",
       "  'side': 'BUY',\n",
       "  'stopPrice': '0.00000000',\n",
       "  'icebergQty': '0.00000000',\n",
       "  'time': 1643474396026,\n",
       "  'updateTime': 1643474396026,\n",
       "  'isWorking': True,\n",
       "  'origQuoteOrderQty': '1000.00000000'},\n",
       " {'symbol': 'BTCUSDT',\n",
       "  'orderId': 11731118,\n",
       "  'orderListId': -1,\n",
       "  'clientOrderId': 'ACGRX34eExW2ht3pubSVqf',\n",
       "  'price': '0.00000000',\n",
       "  'origQty': '0.20000000',\n",
       "  'executedQty': '0.20000000',\n",
       "  'cummulativeQuoteQty': '7500.42215522',\n",
       "  'status': 'FILLED',\n",
       "  'timeInForce': 'GTC',\n",
       "  'type': 'MARKET',\n",
       "  'side': 'SELL',\n",
       "  'stopPrice': '0.00000000',\n",
       "  'icebergQty': '0.00000000',\n",
       "  'time': 1643474666523,\n",
       "  'updateTime': 1643474666523,\n",
       "  'isWorking': True,\n",
       "  'origQuoteOrderQty': '0.00000000'},\n",
       " {'symbol': 'BTCUSDT',\n",
       "  'orderId': 11749074,\n",
       "  'orderListId': -1,\n",
       "  'clientOrderId': '7K3l7U0hgGpLFrjUl0bKI8',\n",
       "  'price': '40000.00000000',\n",
       "  'origQty': '0.10000000',\n",
       "  'executedQty': '0.10000000',\n",
       "  'cummulativeQuoteQty': '3761.32205828',\n",
       "  'status': 'FILLED',\n",
       "  'timeInForce': 'GTC',\n",
       "  'type': 'LIMIT',\n",
       "  'side': 'BUY',\n",
       "  'stopPrice': '0.00000000',\n",
       "  'icebergQty': '0.00000000',\n",
       "  'time': 1643479010994,\n",
       "  'updateTime': 1643479010994,\n",
       "  'isWorking': True,\n",
       "  'origQuoteOrderQty': '0.00000000'},\n",
       " {'symbol': 'BTCUSDT',\n",
       "  'orderId': 11749822,\n",
       "  'orderListId': -1,\n",
       "  'clientOrderId': 'RBLP2CNqZmu1g4dIpVZN3n',\n",
       "  'price': '40000.00000000',\n",
       "  'origQty': '0.10000000',\n",
       "  'executedQty': '0.10000000',\n",
       "  'cummulativeQuoteQty': '3764.44908472',\n",
       "  'status': 'FILLED',\n",
       "  'timeInForce': 'GTC',\n",
       "  'type': 'LIMIT',\n",
       "  'side': 'BUY',\n",
       "  'stopPrice': '0.00000000',\n",
       "  'icebergQty': '0.00000000',\n",
       "  'time': 1643479192565,\n",
       "  'updateTime': 1643479192565,\n",
       "  'isWorking': True,\n",
       "  'origQuoteOrderQty': '0.00000000'},\n",
       " {'symbol': 'BTCUSDT',\n",
       "  'orderId': 11763707,\n",
       "  'orderListId': -1,\n",
       "  'clientOrderId': 'VRV1UAUH5TFpWamOB6zzjF',\n",
       "  'price': '37777.00000000',\n",
       "  'origQty': '0.10000000',\n",
       "  'executedQty': '0.00000000',\n",
       "  'cummulativeQuoteQty': '0.00000000',\n",
       "  'status': 'CANCELED',\n",
       "  'timeInForce': 'GTC',\n",
       "  'type': 'LIMIT',\n",
       "  'side': 'BUY',\n",
       "  'stopPrice': '0.00000000',\n",
       "  'icebergQty': '0.00000000',\n",
       "  'time': 1643482534053,\n",
       "  'updateTime': 1643482963707,\n",
       "  'isWorking': True,\n",
       "  'origQuoteOrderQty': '0.00000000'},\n",
       " {'symbol': 'BTCUSDT',\n",
       "  'orderId': 11763769,\n",
       "  'orderListId': -1,\n",
       "  'clientOrderId': 'WU1vZgkaKh2SVoSddDhVeE',\n",
       "  'price': '37777.00000000',\n",
       "  'origQty': '0.10000000',\n",
       "  'executedQty': '0.10000000',\n",
       "  'cummulativeQuoteQty': '3786.47691096',\n",
       "  'status': 'FILLED',\n",
       "  'timeInForce': 'GTC',\n",
       "  'type': 'LIMIT',\n",
       "  'side': 'SELL',\n",
       "  'stopPrice': '0.00000000',\n",
       "  'icebergQty': '0.00000000',\n",
       "  'time': 1643482548428,\n",
       "  'updateTime': 1643482548428,\n",
       "  'isWorking': True,\n",
       "  'origQuoteOrderQty': '0.00000000'},\n",
       " {'symbol': 'BTCUSDT',\n",
       "  'orderId': 11764497,\n",
       "  'orderListId': -1,\n",
       "  'clientOrderId': 'Q7eOTZK7MyPrFOXs1iQWuc',\n",
       "  'price': '42569.00000000',\n",
       "  'origQty': '0.10000000',\n",
       "  'executedQty': '0.00000000',\n",
       "  'cummulativeQuoteQty': '0.00000000',\n",
       "  'status': 'NEW',\n",
       "  'timeInForce': 'GTC',\n",
       "  'type': 'LIMIT',\n",
       "  'side': 'SELL',\n",
       "  'stopPrice': '0.00000000',\n",
       "  'icebergQty': '0.00000000',\n",
       "  'time': 1643482719246,\n",
       "  'updateTime': 1643482719246,\n",
       "  'isWorking': True,\n",
       "  'origQuoteOrderQty': '0.00000000'}]"
      ]
     },
     "execution_count": 79,
     "metadata": {},
     "output_type": "execute_result"
    }
   ],
   "source": [
    "all_orders = client.get_all_orders(symbol=\"BTCUSDT\")\n",
    "all_orders"
   ]
  },
  {
   "cell_type": "code",
   "execution_count": 80,
   "id": "0ded9a97",
   "metadata": {},
   "outputs": [
    {
     "data": {
      "text/html": [
       "<div>\n",
       "<style scoped>\n",
       "    .dataframe tbody tr th:only-of-type {\n",
       "        vertical-align: middle;\n",
       "    }\n",
       "\n",
       "    .dataframe tbody tr th {\n",
       "        vertical-align: top;\n",
       "    }\n",
       "\n",
       "    .dataframe thead th {\n",
       "        text-align: right;\n",
       "    }\n",
       "</style>\n",
       "<table border=\"1\" class=\"dataframe\">\n",
       "  <thead>\n",
       "    <tr style=\"text-align: right;\">\n",
       "      <th></th>\n",
       "      <th>symbol</th>\n",
       "      <th>orderId</th>\n",
       "      <th>orderListId</th>\n",
       "      <th>clientOrderId</th>\n",
       "      <th>price</th>\n",
       "      <th>origQty</th>\n",
       "      <th>executedQty</th>\n",
       "      <th>cummulativeQuoteQty</th>\n",
       "      <th>status</th>\n",
       "      <th>timeInForce</th>\n",
       "      <th>type</th>\n",
       "      <th>side</th>\n",
       "      <th>stopPrice</th>\n",
       "      <th>icebergQty</th>\n",
       "      <th>time</th>\n",
       "      <th>updateTime</th>\n",
       "      <th>isWorking</th>\n",
       "      <th>origQuoteOrderQty</th>\n",
       "    </tr>\n",
       "  </thead>\n",
       "  <tbody>\n",
       "    <tr>\n",
       "      <th>0</th>\n",
       "      <td>BTCUSDT</td>\n",
       "      <td>11726931</td>\n",
       "      <td>-1</td>\n",
       "      <td>9hdByAf3AYUGK4YAwFKxT2</td>\n",
       "      <td>0.00000000</td>\n",
       "      <td>0.10000000</td>\n",
       "      <td>0.10000000</td>\n",
       "      <td>3750.10167250</td>\n",
       "      <td>FILLED</td>\n",
       "      <td>GTC</td>\n",
       "      <td>MARKET</td>\n",
       "      <td>BUY</td>\n",
       "      <td>0.00000000</td>\n",
       "      <td>0.00000000</td>\n",
       "      <td>1643473661439</td>\n",
       "      <td>1643473661439</td>\n",
       "      <td>True</td>\n",
       "      <td>0.00000000</td>\n",
       "    </tr>\n",
       "    <tr>\n",
       "      <th>1</th>\n",
       "      <td>BTCUSDT</td>\n",
       "      <td>11729994</td>\n",
       "      <td>-1</td>\n",
       "      <td>9Iv3dxzghWtx1rHggAUqbk</td>\n",
       "      <td>0.00000000</td>\n",
       "      <td>0.02668000</td>\n",
       "      <td>0.02668000</td>\n",
       "      <td>999.96666680</td>\n",
       "      <td>FILLED</td>\n",
       "      <td>GTC</td>\n",
       "      <td>MARKET</td>\n",
       "      <td>BUY</td>\n",
       "      <td>0.00000000</td>\n",
       "      <td>0.00000000</td>\n",
       "      <td>1643474396026</td>\n",
       "      <td>1643474396026</td>\n",
       "      <td>True</td>\n",
       "      <td>1000.00000000</td>\n",
       "    </tr>\n",
       "    <tr>\n",
       "      <th>2</th>\n",
       "      <td>BTCUSDT</td>\n",
       "      <td>11731118</td>\n",
       "      <td>-1</td>\n",
       "      <td>ACGRX34eExW2ht3pubSVqf</td>\n",
       "      <td>0.00000000</td>\n",
       "      <td>0.20000000</td>\n",
       "      <td>0.20000000</td>\n",
       "      <td>7500.42215522</td>\n",
       "      <td>FILLED</td>\n",
       "      <td>GTC</td>\n",
       "      <td>MARKET</td>\n",
       "      <td>SELL</td>\n",
       "      <td>0.00000000</td>\n",
       "      <td>0.00000000</td>\n",
       "      <td>1643474666523</td>\n",
       "      <td>1643474666523</td>\n",
       "      <td>True</td>\n",
       "      <td>0.00000000</td>\n",
       "    </tr>\n",
       "    <tr>\n",
       "      <th>3</th>\n",
       "      <td>BTCUSDT</td>\n",
       "      <td>11749074</td>\n",
       "      <td>-1</td>\n",
       "      <td>7K3l7U0hgGpLFrjUl0bKI8</td>\n",
       "      <td>40000.00000000</td>\n",
       "      <td>0.10000000</td>\n",
       "      <td>0.10000000</td>\n",
       "      <td>3761.32205828</td>\n",
       "      <td>FILLED</td>\n",
       "      <td>GTC</td>\n",
       "      <td>LIMIT</td>\n",
       "      <td>BUY</td>\n",
       "      <td>0.00000000</td>\n",
       "      <td>0.00000000</td>\n",
       "      <td>1643479010994</td>\n",
       "      <td>1643479010994</td>\n",
       "      <td>True</td>\n",
       "      <td>0.00000000</td>\n",
       "    </tr>\n",
       "    <tr>\n",
       "      <th>4</th>\n",
       "      <td>BTCUSDT</td>\n",
       "      <td>11749822</td>\n",
       "      <td>-1</td>\n",
       "      <td>RBLP2CNqZmu1g4dIpVZN3n</td>\n",
       "      <td>40000.00000000</td>\n",
       "      <td>0.10000000</td>\n",
       "      <td>0.10000000</td>\n",
       "      <td>3764.44908472</td>\n",
       "      <td>FILLED</td>\n",
       "      <td>GTC</td>\n",
       "      <td>LIMIT</td>\n",
       "      <td>BUY</td>\n",
       "      <td>0.00000000</td>\n",
       "      <td>0.00000000</td>\n",
       "      <td>1643479192565</td>\n",
       "      <td>1643479192565</td>\n",
       "      <td>True</td>\n",
       "      <td>0.00000000</td>\n",
       "    </tr>\n",
       "    <tr>\n",
       "      <th>5</th>\n",
       "      <td>BTCUSDT</td>\n",
       "      <td>11763707</td>\n",
       "      <td>-1</td>\n",
       "      <td>VRV1UAUH5TFpWamOB6zzjF</td>\n",
       "      <td>37777.00000000</td>\n",
       "      <td>0.10000000</td>\n",
       "      <td>0.00000000</td>\n",
       "      <td>0.00000000</td>\n",
       "      <td>CANCELED</td>\n",
       "      <td>GTC</td>\n",
       "      <td>LIMIT</td>\n",
       "      <td>BUY</td>\n",
       "      <td>0.00000000</td>\n",
       "      <td>0.00000000</td>\n",
       "      <td>1643482534053</td>\n",
       "      <td>1643482963707</td>\n",
       "      <td>True</td>\n",
       "      <td>0.00000000</td>\n",
       "    </tr>\n",
       "    <tr>\n",
       "      <th>6</th>\n",
       "      <td>BTCUSDT</td>\n",
       "      <td>11763769</td>\n",
       "      <td>-1</td>\n",
       "      <td>WU1vZgkaKh2SVoSddDhVeE</td>\n",
       "      <td>37777.00000000</td>\n",
       "      <td>0.10000000</td>\n",
       "      <td>0.10000000</td>\n",
       "      <td>3786.47691096</td>\n",
       "      <td>FILLED</td>\n",
       "      <td>GTC</td>\n",
       "      <td>LIMIT</td>\n",
       "      <td>SELL</td>\n",
       "      <td>0.00000000</td>\n",
       "      <td>0.00000000</td>\n",
       "      <td>1643482548428</td>\n",
       "      <td>1643482548428</td>\n",
       "      <td>True</td>\n",
       "      <td>0.00000000</td>\n",
       "    </tr>\n",
       "    <tr>\n",
       "      <th>7</th>\n",
       "      <td>BTCUSDT</td>\n",
       "      <td>11764497</td>\n",
       "      <td>-1</td>\n",
       "      <td>Q7eOTZK7MyPrFOXs1iQWuc</td>\n",
       "      <td>42569.00000000</td>\n",
       "      <td>0.10000000</td>\n",
       "      <td>0.00000000</td>\n",
       "      <td>0.00000000</td>\n",
       "      <td>NEW</td>\n",
       "      <td>GTC</td>\n",
       "      <td>LIMIT</td>\n",
       "      <td>SELL</td>\n",
       "      <td>0.00000000</td>\n",
       "      <td>0.00000000</td>\n",
       "      <td>1643482719246</td>\n",
       "      <td>1643482719246</td>\n",
       "      <td>True</td>\n",
       "      <td>0.00000000</td>\n",
       "    </tr>\n",
       "  </tbody>\n",
       "</table>\n",
       "</div>"
      ],
      "text/plain": [
       "    symbol   orderId  orderListId           clientOrderId           price  \\\n",
       "0  BTCUSDT  11726931           -1  9hdByAf3AYUGK4YAwFKxT2      0.00000000   \n",
       "1  BTCUSDT  11729994           -1  9Iv3dxzghWtx1rHggAUqbk      0.00000000   \n",
       "2  BTCUSDT  11731118           -1  ACGRX34eExW2ht3pubSVqf      0.00000000   \n",
       "3  BTCUSDT  11749074           -1  7K3l7U0hgGpLFrjUl0bKI8  40000.00000000   \n",
       "4  BTCUSDT  11749822           -1  RBLP2CNqZmu1g4dIpVZN3n  40000.00000000   \n",
       "5  BTCUSDT  11763707           -1  VRV1UAUH5TFpWamOB6zzjF  37777.00000000   \n",
       "6  BTCUSDT  11763769           -1  WU1vZgkaKh2SVoSddDhVeE  37777.00000000   \n",
       "7  BTCUSDT  11764497           -1  Q7eOTZK7MyPrFOXs1iQWuc  42569.00000000   \n",
       "\n",
       "      origQty executedQty cummulativeQuoteQty    status timeInForce    type  \\\n",
       "0  0.10000000  0.10000000       3750.10167250    FILLED         GTC  MARKET   \n",
       "1  0.02668000  0.02668000        999.96666680    FILLED         GTC  MARKET   \n",
       "2  0.20000000  0.20000000       7500.42215522    FILLED         GTC  MARKET   \n",
       "3  0.10000000  0.10000000       3761.32205828    FILLED         GTC   LIMIT   \n",
       "4  0.10000000  0.10000000       3764.44908472    FILLED         GTC   LIMIT   \n",
       "5  0.10000000  0.00000000          0.00000000  CANCELED         GTC   LIMIT   \n",
       "6  0.10000000  0.10000000       3786.47691096    FILLED         GTC   LIMIT   \n",
       "7  0.10000000  0.00000000          0.00000000       NEW         GTC   LIMIT   \n",
       "\n",
       "   side   stopPrice  icebergQty           time     updateTime  isWorking  \\\n",
       "0   BUY  0.00000000  0.00000000  1643473661439  1643473661439       True   \n",
       "1   BUY  0.00000000  0.00000000  1643474396026  1643474396026       True   \n",
       "2  SELL  0.00000000  0.00000000  1643474666523  1643474666523       True   \n",
       "3   BUY  0.00000000  0.00000000  1643479010994  1643479010994       True   \n",
       "4   BUY  0.00000000  0.00000000  1643479192565  1643479192565       True   \n",
       "5   BUY  0.00000000  0.00000000  1643482534053  1643482963707       True   \n",
       "6  SELL  0.00000000  0.00000000  1643482548428  1643482548428       True   \n",
       "7  SELL  0.00000000  0.00000000  1643482719246  1643482719246       True   \n",
       "\n",
       "  origQuoteOrderQty  \n",
       "0        0.00000000  \n",
       "1     1000.00000000  \n",
       "2        0.00000000  \n",
       "3        0.00000000  \n",
       "4        0.00000000  \n",
       "5        0.00000000  \n",
       "6        0.00000000  \n",
       "7        0.00000000  "
      ]
     },
     "execution_count": 80,
     "metadata": {},
     "output_type": "execute_result"
    }
   ],
   "source": [
    "pd.DataFrame(all_orders)"
   ]
  },
  {
   "cell_type": "code",
   "execution_count": 81,
   "id": "b14fc83e",
   "metadata": {},
   "outputs": [
    {
     "data": {
      "text/plain": [
       "[{'symbol': 'BTCUSDT',\n",
       "  'id': 2592982,\n",
       "  'orderId': 11726931,\n",
       "  'orderListId': -1,\n",
       "  'price': '37501.01000000',\n",
       "  'qty': '0.09973100',\n",
       "  'quoteQty': '3740.01322831',\n",
       "  'commission': '0.00000000',\n",
       "  'commissionAsset': 'BTC',\n",
       "  'time': 1643473661439,\n",
       "  'isBuyer': True,\n",
       "  'isMaker': False,\n",
       "  'isBestMatch': True},\n",
       " {'symbol': 'BTCUSDT',\n",
       "  'id': 2592983,\n",
       "  'orderId': 11726931,\n",
       "  'orderListId': -1,\n",
       "  'price': '37503.51000000',\n",
       "  'qty': '0.00026900',\n",
       "  'quoteQty': '10.08844419',\n",
       "  'commission': '0.00000000',\n",
       "  'commissionAsset': 'BTC',\n",
       "  'time': 1643473661439,\n",
       "  'isBuyer': True,\n",
       "  'isMaker': False,\n",
       "  'isBestMatch': True},\n",
       " {'symbol': 'BTCUSDT',\n",
       "  'id': 2593498,\n",
       "  'orderId': 11729994,\n",
       "  'orderListId': -1,\n",
       "  'price': '37480.01000000',\n",
       "  'qty': '0.02668000',\n",
       "  'quoteQty': '999.96666680',\n",
       "  'commission': '0.00000000',\n",
       "  'commissionAsset': 'BTC',\n",
       "  'time': 1643474396026,\n",
       "  'isBuyer': True,\n",
       "  'isMaker': False,\n",
       "  'isBestMatch': True},\n",
       " {'symbol': 'BTCUSDT',\n",
       "  'id': 2593668,\n",
       "  'orderId': 11731118,\n",
       "  'orderListId': -1,\n",
       "  'price': '37504.68000000',\n",
       "  'qty': '0.01146000',\n",
       "  'quoteQty': '429.80363280',\n",
       "  'commission': '0.00000000',\n",
       "  'commissionAsset': 'USDT',\n",
       "  'time': 1643474666523,\n",
       "  'isBuyer': False,\n",
       "  'isMaker': False,\n",
       "  'isBestMatch': True},\n",
       " {'symbol': 'BTCUSDT',\n",
       "  'id': 2593669,\n",
       "  'orderId': 11731118,\n",
       "  'orderListId': -1,\n",
       "  'price': '37503.28000000',\n",
       "  'qty': '0.07359400',\n",
       "  'quoteQty': '2760.01638832',\n",
       "  'commission': '0.00000000',\n",
       "  'commissionAsset': 'USDT',\n",
       "  'time': 1643474666523,\n",
       "  'isBuyer': False,\n",
       "  'isMaker': False,\n",
       "  'isBestMatch': True},\n",
       " {'symbol': 'BTCUSDT',\n",
       "  'id': 2593670,\n",
       "  'orderId': 11731118,\n",
       "  'orderListId': -1,\n",
       "  'price': '37501.14000000',\n",
       "  'qty': '0.09719900',\n",
       "  'quoteQty': '3645.07330686',\n",
       "  'commission': '0.00000000',\n",
       "  'commissionAsset': 'USDT',\n",
       "  'time': 1643474666523,\n",
       "  'isBuyer': False,\n",
       "  'isMaker': False,\n",
       "  'isBestMatch': True},\n",
       " {'symbol': 'BTCUSDT',\n",
       "  'id': 2593671,\n",
       "  'orderId': 11731118,\n",
       "  'orderListId': -1,\n",
       "  'price': '37500.92000000',\n",
       "  'qty': '0.01774700',\n",
       "  'quoteQty': '665.52882724',\n",
       "  'commission': '0.00000000',\n",
       "  'commissionAsset': 'USDT',\n",
       "  'time': 1643474666523,\n",
       "  'isBuyer': False,\n",
       "  'isMaker': False,\n",
       "  'isBestMatch': True},\n",
       " {'symbol': 'BTCUSDT',\n",
       "  'id': 2596355,\n",
       "  'orderId': 11749074,\n",
       "  'orderListId': -1,\n",
       "  'price': '37612.91000000',\n",
       "  'qty': '0.09544600',\n",
       "  'quoteQty': '3590.00180786',\n",
       "  'commission': '0.00000000',\n",
       "  'commissionAsset': 'BTC',\n",
       "  'time': 1643479010994,\n",
       "  'isBuyer': True,\n",
       "  'isMaker': False,\n",
       "  'isBestMatch': True},\n",
       " {'symbol': 'BTCUSDT',\n",
       "  'id': 2596356,\n",
       "  'orderId': 11749074,\n",
       "  'orderListId': -1,\n",
       "  'price': '37619.73000000',\n",
       "  'qty': '0.00455400',\n",
       "  'quoteQty': '171.32025042',\n",
       "  'commission': '0.00000000',\n",
       "  'commissionAsset': 'BTC',\n",
       "  'time': 1643479010994,\n",
       "  'isBuyer': True,\n",
       "  'isMaker': False,\n",
       "  'isBestMatch': True},\n",
       " {'symbol': 'BTCUSDT',\n",
       "  'id': 2596448,\n",
       "  'orderId': 11749822,\n",
       "  'orderListId': -1,\n",
       "  'price': '37644.04000000',\n",
       "  'qty': '0.08022600',\n",
       "  'quoteQty': '3020.03075304',\n",
       "  'commission': '0.00000000',\n",
       "  'commissionAsset': 'BTC',\n",
       "  'time': 1643479192565,\n",
       "  'isBuyer': True,\n",
       "  'isMaker': False,\n",
       "  'isBestMatch': True},\n",
       " {'symbol': 'BTCUSDT',\n",
       "  'id': 2596449,\n",
       "  'orderId': 11749822,\n",
       "  'orderListId': -1,\n",
       "  'price': '37646.32000000',\n",
       "  'qty': '0.01977400',\n",
       "  'quoteQty': '744.41833168',\n",
       "  'commission': '0.00000000',\n",
       "  'commissionAsset': 'BTC',\n",
       "  'time': 1643479192565,\n",
       "  'isBuyer': True,\n",
       "  'isMaker': False,\n",
       "  'isBestMatch': True},\n",
       " {'symbol': 'BTCUSDT',\n",
       "  'id': 2598366,\n",
       "  'orderId': 11763769,\n",
       "  'orderListId': -1,\n",
       "  'price': '37865.40000000',\n",
       "  'qty': '0.05361100',\n",
       "  'quoteQty': '2030.00195940',\n",
       "  'commission': '0.00000000',\n",
       "  'commissionAsset': 'USDT',\n",
       "  'time': 1643482548428,\n",
       "  'isBuyer': False,\n",
       "  'isMaker': False,\n",
       "  'isBestMatch': True},\n",
       " {'symbol': 'BTCUSDT',\n",
       "  'id': 2598367,\n",
       "  'orderId': 11763769,\n",
       "  'orderListId': -1,\n",
       "  'price': '37864.04000000',\n",
       "  'qty': '0.04638900',\n",
       "  'quoteQty': '1756.47495156',\n",
       "  'commission': '0.00000000',\n",
       "  'commissionAsset': 'USDT',\n",
       "  'time': 1643482548428,\n",
       "  'isBuyer': False,\n",
       "  'isMaker': False,\n",
       "  'isBestMatch': True}]"
      ]
     },
     "execution_count": 81,
     "metadata": {},
     "output_type": "execute_result"
    }
   ],
   "source": [
    "trades = client.get_my_trades(symbol = \"BTCUSDT\")\n",
    "trades"
   ]
  },
  {
   "cell_type": "code",
   "execution_count": 88,
   "id": "a2598015",
   "metadata": {},
   "outputs": [],
   "source": [
    "df = pd.DataFrame(trades)"
   ]
  },
  {
   "cell_type": "code",
   "execution_count": 89,
   "id": "b324af0a",
   "metadata": {},
   "outputs": [
    {
     "data": {
      "text/html": [
       "<div>\n",
       "<style scoped>\n",
       "    .dataframe tbody tr th:only-of-type {\n",
       "        vertical-align: middle;\n",
       "    }\n",
       "\n",
       "    .dataframe tbody tr th {\n",
       "        vertical-align: top;\n",
       "    }\n",
       "\n",
       "    .dataframe thead th {\n",
       "        text-align: right;\n",
       "    }\n",
       "</style>\n",
       "<table border=\"1\" class=\"dataframe\">\n",
       "  <thead>\n",
       "    <tr style=\"text-align: right;\">\n",
       "      <th></th>\n",
       "      <th>symbol</th>\n",
       "      <th>id</th>\n",
       "      <th>orderId</th>\n",
       "      <th>orderListId</th>\n",
       "      <th>price</th>\n",
       "      <th>qty</th>\n",
       "      <th>quoteQty</th>\n",
       "      <th>commission</th>\n",
       "      <th>commissionAsset</th>\n",
       "      <th>time</th>\n",
       "      <th>isBuyer</th>\n",
       "      <th>isMaker</th>\n",
       "      <th>isBestMatch</th>\n",
       "    </tr>\n",
       "  </thead>\n",
       "  <tbody>\n",
       "    <tr>\n",
       "      <th>0</th>\n",
       "      <td>BTCUSDT</td>\n",
       "      <td>2592982</td>\n",
       "      <td>11726931</td>\n",
       "      <td>-1</td>\n",
       "      <td>37501.01000000</td>\n",
       "      <td>0.09973100</td>\n",
       "      <td>3740.01322831</td>\n",
       "      <td>0.00000000</td>\n",
       "      <td>BTC</td>\n",
       "      <td>1643473661439</td>\n",
       "      <td>True</td>\n",
       "      <td>False</td>\n",
       "      <td>True</td>\n",
       "    </tr>\n",
       "    <tr>\n",
       "      <th>1</th>\n",
       "      <td>BTCUSDT</td>\n",
       "      <td>2592983</td>\n",
       "      <td>11726931</td>\n",
       "      <td>-1</td>\n",
       "      <td>37503.51000000</td>\n",
       "      <td>0.00026900</td>\n",
       "      <td>10.08844419</td>\n",
       "      <td>0.00000000</td>\n",
       "      <td>BTC</td>\n",
       "      <td>1643473661439</td>\n",
       "      <td>True</td>\n",
       "      <td>False</td>\n",
       "      <td>True</td>\n",
       "    </tr>\n",
       "    <tr>\n",
       "      <th>2</th>\n",
       "      <td>BTCUSDT</td>\n",
       "      <td>2593498</td>\n",
       "      <td>11729994</td>\n",
       "      <td>-1</td>\n",
       "      <td>37480.01000000</td>\n",
       "      <td>0.02668000</td>\n",
       "      <td>999.96666680</td>\n",
       "      <td>0.00000000</td>\n",
       "      <td>BTC</td>\n",
       "      <td>1643474396026</td>\n",
       "      <td>True</td>\n",
       "      <td>False</td>\n",
       "      <td>True</td>\n",
       "    </tr>\n",
       "    <tr>\n",
       "      <th>3</th>\n",
       "      <td>BTCUSDT</td>\n",
       "      <td>2593668</td>\n",
       "      <td>11731118</td>\n",
       "      <td>-1</td>\n",
       "      <td>37504.68000000</td>\n",
       "      <td>0.01146000</td>\n",
       "      <td>429.80363280</td>\n",
       "      <td>0.00000000</td>\n",
       "      <td>USDT</td>\n",
       "      <td>1643474666523</td>\n",
       "      <td>False</td>\n",
       "      <td>False</td>\n",
       "      <td>True</td>\n",
       "    </tr>\n",
       "    <tr>\n",
       "      <th>4</th>\n",
       "      <td>BTCUSDT</td>\n",
       "      <td>2593669</td>\n",
       "      <td>11731118</td>\n",
       "      <td>-1</td>\n",
       "      <td>37503.28000000</td>\n",
       "      <td>0.07359400</td>\n",
       "      <td>2760.01638832</td>\n",
       "      <td>0.00000000</td>\n",
       "      <td>USDT</td>\n",
       "      <td>1643474666523</td>\n",
       "      <td>False</td>\n",
       "      <td>False</td>\n",
       "      <td>True</td>\n",
       "    </tr>\n",
       "    <tr>\n",
       "      <th>5</th>\n",
       "      <td>BTCUSDT</td>\n",
       "      <td>2593670</td>\n",
       "      <td>11731118</td>\n",
       "      <td>-1</td>\n",
       "      <td>37501.14000000</td>\n",
       "      <td>0.09719900</td>\n",
       "      <td>3645.07330686</td>\n",
       "      <td>0.00000000</td>\n",
       "      <td>USDT</td>\n",
       "      <td>1643474666523</td>\n",
       "      <td>False</td>\n",
       "      <td>False</td>\n",
       "      <td>True</td>\n",
       "    </tr>\n",
       "    <tr>\n",
       "      <th>6</th>\n",
       "      <td>BTCUSDT</td>\n",
       "      <td>2593671</td>\n",
       "      <td>11731118</td>\n",
       "      <td>-1</td>\n",
       "      <td>37500.92000000</td>\n",
       "      <td>0.01774700</td>\n",
       "      <td>665.52882724</td>\n",
       "      <td>0.00000000</td>\n",
       "      <td>USDT</td>\n",
       "      <td>1643474666523</td>\n",
       "      <td>False</td>\n",
       "      <td>False</td>\n",
       "      <td>True</td>\n",
       "    </tr>\n",
       "    <tr>\n",
       "      <th>7</th>\n",
       "      <td>BTCUSDT</td>\n",
       "      <td>2596355</td>\n",
       "      <td>11749074</td>\n",
       "      <td>-1</td>\n",
       "      <td>37612.91000000</td>\n",
       "      <td>0.09544600</td>\n",
       "      <td>3590.00180786</td>\n",
       "      <td>0.00000000</td>\n",
       "      <td>BTC</td>\n",
       "      <td>1643479010994</td>\n",
       "      <td>True</td>\n",
       "      <td>False</td>\n",
       "      <td>True</td>\n",
       "    </tr>\n",
       "    <tr>\n",
       "      <th>8</th>\n",
       "      <td>BTCUSDT</td>\n",
       "      <td>2596356</td>\n",
       "      <td>11749074</td>\n",
       "      <td>-1</td>\n",
       "      <td>37619.73000000</td>\n",
       "      <td>0.00455400</td>\n",
       "      <td>171.32025042</td>\n",
       "      <td>0.00000000</td>\n",
       "      <td>BTC</td>\n",
       "      <td>1643479010994</td>\n",
       "      <td>True</td>\n",
       "      <td>False</td>\n",
       "      <td>True</td>\n",
       "    </tr>\n",
       "    <tr>\n",
       "      <th>9</th>\n",
       "      <td>BTCUSDT</td>\n",
       "      <td>2596448</td>\n",
       "      <td>11749822</td>\n",
       "      <td>-1</td>\n",
       "      <td>37644.04000000</td>\n",
       "      <td>0.08022600</td>\n",
       "      <td>3020.03075304</td>\n",
       "      <td>0.00000000</td>\n",
       "      <td>BTC</td>\n",
       "      <td>1643479192565</td>\n",
       "      <td>True</td>\n",
       "      <td>False</td>\n",
       "      <td>True</td>\n",
       "    </tr>\n",
       "    <tr>\n",
       "      <th>10</th>\n",
       "      <td>BTCUSDT</td>\n",
       "      <td>2596449</td>\n",
       "      <td>11749822</td>\n",
       "      <td>-1</td>\n",
       "      <td>37646.32000000</td>\n",
       "      <td>0.01977400</td>\n",
       "      <td>744.41833168</td>\n",
       "      <td>0.00000000</td>\n",
       "      <td>BTC</td>\n",
       "      <td>1643479192565</td>\n",
       "      <td>True</td>\n",
       "      <td>False</td>\n",
       "      <td>True</td>\n",
       "    </tr>\n",
       "    <tr>\n",
       "      <th>11</th>\n",
       "      <td>BTCUSDT</td>\n",
       "      <td>2598366</td>\n",
       "      <td>11763769</td>\n",
       "      <td>-1</td>\n",
       "      <td>37865.40000000</td>\n",
       "      <td>0.05361100</td>\n",
       "      <td>2030.00195940</td>\n",
       "      <td>0.00000000</td>\n",
       "      <td>USDT</td>\n",
       "      <td>1643482548428</td>\n",
       "      <td>False</td>\n",
       "      <td>False</td>\n",
       "      <td>True</td>\n",
       "    </tr>\n",
       "    <tr>\n",
       "      <th>12</th>\n",
       "      <td>BTCUSDT</td>\n",
       "      <td>2598367</td>\n",
       "      <td>11763769</td>\n",
       "      <td>-1</td>\n",
       "      <td>37864.04000000</td>\n",
       "      <td>0.04638900</td>\n",
       "      <td>1756.47495156</td>\n",
       "      <td>0.00000000</td>\n",
       "      <td>USDT</td>\n",
       "      <td>1643482548428</td>\n",
       "      <td>False</td>\n",
       "      <td>False</td>\n",
       "      <td>True</td>\n",
       "    </tr>\n",
       "  </tbody>\n",
       "</table>\n",
       "</div>"
      ],
      "text/plain": [
       "     symbol       id   orderId  orderListId           price         qty  \\\n",
       "0   BTCUSDT  2592982  11726931           -1  37501.01000000  0.09973100   \n",
       "1   BTCUSDT  2592983  11726931           -1  37503.51000000  0.00026900   \n",
       "2   BTCUSDT  2593498  11729994           -1  37480.01000000  0.02668000   \n",
       "3   BTCUSDT  2593668  11731118           -1  37504.68000000  0.01146000   \n",
       "4   BTCUSDT  2593669  11731118           -1  37503.28000000  0.07359400   \n",
       "5   BTCUSDT  2593670  11731118           -1  37501.14000000  0.09719900   \n",
       "6   BTCUSDT  2593671  11731118           -1  37500.92000000  0.01774700   \n",
       "7   BTCUSDT  2596355  11749074           -1  37612.91000000  0.09544600   \n",
       "8   BTCUSDT  2596356  11749074           -1  37619.73000000  0.00455400   \n",
       "9   BTCUSDT  2596448  11749822           -1  37644.04000000  0.08022600   \n",
       "10  BTCUSDT  2596449  11749822           -1  37646.32000000  0.01977400   \n",
       "11  BTCUSDT  2598366  11763769           -1  37865.40000000  0.05361100   \n",
       "12  BTCUSDT  2598367  11763769           -1  37864.04000000  0.04638900   \n",
       "\n",
       "         quoteQty  commission commissionAsset           time  isBuyer  \\\n",
       "0   3740.01322831  0.00000000             BTC  1643473661439     True   \n",
       "1     10.08844419  0.00000000             BTC  1643473661439     True   \n",
       "2    999.96666680  0.00000000             BTC  1643474396026     True   \n",
       "3    429.80363280  0.00000000            USDT  1643474666523    False   \n",
       "4   2760.01638832  0.00000000            USDT  1643474666523    False   \n",
       "5   3645.07330686  0.00000000            USDT  1643474666523    False   \n",
       "6    665.52882724  0.00000000            USDT  1643474666523    False   \n",
       "7   3590.00180786  0.00000000             BTC  1643479010994     True   \n",
       "8    171.32025042  0.00000000             BTC  1643479010994     True   \n",
       "9   3020.03075304  0.00000000             BTC  1643479192565     True   \n",
       "10   744.41833168  0.00000000             BTC  1643479192565     True   \n",
       "11  2030.00195940  0.00000000            USDT  1643482548428    False   \n",
       "12  1756.47495156  0.00000000            USDT  1643482548428    False   \n",
       "\n",
       "    isMaker  isBestMatch  \n",
       "0     False         True  \n",
       "1     False         True  \n",
       "2     False         True  \n",
       "3     False         True  \n",
       "4     False         True  \n",
       "5     False         True  \n",
       "6     False         True  \n",
       "7     False         True  \n",
       "8     False         True  \n",
       "9     False         True  \n",
       "10    False         True  \n",
       "11    False         True  \n",
       "12    False         True  "
      ]
     },
     "execution_count": 89,
     "metadata": {},
     "output_type": "execute_result"
    }
   ],
   "source": [
    "df"
   ]
  },
  {
   "cell_type": "code",
   "execution_count": 90,
   "id": "4c0412fe",
   "metadata": {},
   "outputs": [],
   "source": [
    "df.time = pd.to_datetime(df.time, unit=\"ms\")"
   ]
  },
  {
   "cell_type": "code",
   "execution_count": 91,
   "id": "6da6fcf4",
   "metadata": {},
   "outputs": [
    {
     "data": {
      "text/html": [
       "<div>\n",
       "<style scoped>\n",
       "    .dataframe tbody tr th:only-of-type {\n",
       "        vertical-align: middle;\n",
       "    }\n",
       "\n",
       "    .dataframe tbody tr th {\n",
       "        vertical-align: top;\n",
       "    }\n",
       "\n",
       "    .dataframe thead th {\n",
       "        text-align: right;\n",
       "    }\n",
       "</style>\n",
       "<table border=\"1\" class=\"dataframe\">\n",
       "  <thead>\n",
       "    <tr style=\"text-align: right;\">\n",
       "      <th></th>\n",
       "      <th>symbol</th>\n",
       "      <th>id</th>\n",
       "      <th>orderId</th>\n",
       "      <th>orderListId</th>\n",
       "      <th>price</th>\n",
       "      <th>qty</th>\n",
       "      <th>quoteQty</th>\n",
       "      <th>commission</th>\n",
       "      <th>commissionAsset</th>\n",
       "      <th>time</th>\n",
       "      <th>isBuyer</th>\n",
       "      <th>isMaker</th>\n",
       "      <th>isBestMatch</th>\n",
       "    </tr>\n",
       "  </thead>\n",
       "  <tbody>\n",
       "    <tr>\n",
       "      <th>0</th>\n",
       "      <td>BTCUSDT</td>\n",
       "      <td>2592982</td>\n",
       "      <td>11726931</td>\n",
       "      <td>-1</td>\n",
       "      <td>37501.01000000</td>\n",
       "      <td>0.09973100</td>\n",
       "      <td>3740.01322831</td>\n",
       "      <td>0.00000000</td>\n",
       "      <td>BTC</td>\n",
       "      <td>2022-01-29 16:27:41.439</td>\n",
       "      <td>True</td>\n",
       "      <td>False</td>\n",
       "      <td>True</td>\n",
       "    </tr>\n",
       "    <tr>\n",
       "      <th>1</th>\n",
       "      <td>BTCUSDT</td>\n",
       "      <td>2592983</td>\n",
       "      <td>11726931</td>\n",
       "      <td>-1</td>\n",
       "      <td>37503.51000000</td>\n",
       "      <td>0.00026900</td>\n",
       "      <td>10.08844419</td>\n",
       "      <td>0.00000000</td>\n",
       "      <td>BTC</td>\n",
       "      <td>2022-01-29 16:27:41.439</td>\n",
       "      <td>True</td>\n",
       "      <td>False</td>\n",
       "      <td>True</td>\n",
       "    </tr>\n",
       "    <tr>\n",
       "      <th>2</th>\n",
       "      <td>BTCUSDT</td>\n",
       "      <td>2593498</td>\n",
       "      <td>11729994</td>\n",
       "      <td>-1</td>\n",
       "      <td>37480.01000000</td>\n",
       "      <td>0.02668000</td>\n",
       "      <td>999.96666680</td>\n",
       "      <td>0.00000000</td>\n",
       "      <td>BTC</td>\n",
       "      <td>2022-01-29 16:39:56.026</td>\n",
       "      <td>True</td>\n",
       "      <td>False</td>\n",
       "      <td>True</td>\n",
       "    </tr>\n",
       "    <tr>\n",
       "      <th>3</th>\n",
       "      <td>BTCUSDT</td>\n",
       "      <td>2593668</td>\n",
       "      <td>11731118</td>\n",
       "      <td>-1</td>\n",
       "      <td>37504.68000000</td>\n",
       "      <td>0.01146000</td>\n",
       "      <td>429.80363280</td>\n",
       "      <td>0.00000000</td>\n",
       "      <td>USDT</td>\n",
       "      <td>2022-01-29 16:44:26.523</td>\n",
       "      <td>False</td>\n",
       "      <td>False</td>\n",
       "      <td>True</td>\n",
       "    </tr>\n",
       "    <tr>\n",
       "      <th>4</th>\n",
       "      <td>BTCUSDT</td>\n",
       "      <td>2593669</td>\n",
       "      <td>11731118</td>\n",
       "      <td>-1</td>\n",
       "      <td>37503.28000000</td>\n",
       "      <td>0.07359400</td>\n",
       "      <td>2760.01638832</td>\n",
       "      <td>0.00000000</td>\n",
       "      <td>USDT</td>\n",
       "      <td>2022-01-29 16:44:26.523</td>\n",
       "      <td>False</td>\n",
       "      <td>False</td>\n",
       "      <td>True</td>\n",
       "    </tr>\n",
       "    <tr>\n",
       "      <th>5</th>\n",
       "      <td>BTCUSDT</td>\n",
       "      <td>2593670</td>\n",
       "      <td>11731118</td>\n",
       "      <td>-1</td>\n",
       "      <td>37501.14000000</td>\n",
       "      <td>0.09719900</td>\n",
       "      <td>3645.07330686</td>\n",
       "      <td>0.00000000</td>\n",
       "      <td>USDT</td>\n",
       "      <td>2022-01-29 16:44:26.523</td>\n",
       "      <td>False</td>\n",
       "      <td>False</td>\n",
       "      <td>True</td>\n",
       "    </tr>\n",
       "    <tr>\n",
       "      <th>6</th>\n",
       "      <td>BTCUSDT</td>\n",
       "      <td>2593671</td>\n",
       "      <td>11731118</td>\n",
       "      <td>-1</td>\n",
       "      <td>37500.92000000</td>\n",
       "      <td>0.01774700</td>\n",
       "      <td>665.52882724</td>\n",
       "      <td>0.00000000</td>\n",
       "      <td>USDT</td>\n",
       "      <td>2022-01-29 16:44:26.523</td>\n",
       "      <td>False</td>\n",
       "      <td>False</td>\n",
       "      <td>True</td>\n",
       "    </tr>\n",
       "    <tr>\n",
       "      <th>7</th>\n",
       "      <td>BTCUSDT</td>\n",
       "      <td>2596355</td>\n",
       "      <td>11749074</td>\n",
       "      <td>-1</td>\n",
       "      <td>37612.91000000</td>\n",
       "      <td>0.09544600</td>\n",
       "      <td>3590.00180786</td>\n",
       "      <td>0.00000000</td>\n",
       "      <td>BTC</td>\n",
       "      <td>2022-01-29 17:56:50.994</td>\n",
       "      <td>True</td>\n",
       "      <td>False</td>\n",
       "      <td>True</td>\n",
       "    </tr>\n",
       "    <tr>\n",
       "      <th>8</th>\n",
       "      <td>BTCUSDT</td>\n",
       "      <td>2596356</td>\n",
       "      <td>11749074</td>\n",
       "      <td>-1</td>\n",
       "      <td>37619.73000000</td>\n",
       "      <td>0.00455400</td>\n",
       "      <td>171.32025042</td>\n",
       "      <td>0.00000000</td>\n",
       "      <td>BTC</td>\n",
       "      <td>2022-01-29 17:56:50.994</td>\n",
       "      <td>True</td>\n",
       "      <td>False</td>\n",
       "      <td>True</td>\n",
       "    </tr>\n",
       "    <tr>\n",
       "      <th>9</th>\n",
       "      <td>BTCUSDT</td>\n",
       "      <td>2596448</td>\n",
       "      <td>11749822</td>\n",
       "      <td>-1</td>\n",
       "      <td>37644.04000000</td>\n",
       "      <td>0.08022600</td>\n",
       "      <td>3020.03075304</td>\n",
       "      <td>0.00000000</td>\n",
       "      <td>BTC</td>\n",
       "      <td>2022-01-29 17:59:52.565</td>\n",
       "      <td>True</td>\n",
       "      <td>False</td>\n",
       "      <td>True</td>\n",
       "    </tr>\n",
       "    <tr>\n",
       "      <th>10</th>\n",
       "      <td>BTCUSDT</td>\n",
       "      <td>2596449</td>\n",
       "      <td>11749822</td>\n",
       "      <td>-1</td>\n",
       "      <td>37646.32000000</td>\n",
       "      <td>0.01977400</td>\n",
       "      <td>744.41833168</td>\n",
       "      <td>0.00000000</td>\n",
       "      <td>BTC</td>\n",
       "      <td>2022-01-29 17:59:52.565</td>\n",
       "      <td>True</td>\n",
       "      <td>False</td>\n",
       "      <td>True</td>\n",
       "    </tr>\n",
       "    <tr>\n",
       "      <th>11</th>\n",
       "      <td>BTCUSDT</td>\n",
       "      <td>2598366</td>\n",
       "      <td>11763769</td>\n",
       "      <td>-1</td>\n",
       "      <td>37865.40000000</td>\n",
       "      <td>0.05361100</td>\n",
       "      <td>2030.00195940</td>\n",
       "      <td>0.00000000</td>\n",
       "      <td>USDT</td>\n",
       "      <td>2022-01-29 18:55:48.428</td>\n",
       "      <td>False</td>\n",
       "      <td>False</td>\n",
       "      <td>True</td>\n",
       "    </tr>\n",
       "    <tr>\n",
       "      <th>12</th>\n",
       "      <td>BTCUSDT</td>\n",
       "      <td>2598367</td>\n",
       "      <td>11763769</td>\n",
       "      <td>-1</td>\n",
       "      <td>37864.04000000</td>\n",
       "      <td>0.04638900</td>\n",
       "      <td>1756.47495156</td>\n",
       "      <td>0.00000000</td>\n",
       "      <td>USDT</td>\n",
       "      <td>2022-01-29 18:55:48.428</td>\n",
       "      <td>False</td>\n",
       "      <td>False</td>\n",
       "      <td>True</td>\n",
       "    </tr>\n",
       "  </tbody>\n",
       "</table>\n",
       "</div>"
      ],
      "text/plain": [
       "     symbol       id   orderId  orderListId           price         qty  \\\n",
       "0   BTCUSDT  2592982  11726931           -1  37501.01000000  0.09973100   \n",
       "1   BTCUSDT  2592983  11726931           -1  37503.51000000  0.00026900   \n",
       "2   BTCUSDT  2593498  11729994           -1  37480.01000000  0.02668000   \n",
       "3   BTCUSDT  2593668  11731118           -1  37504.68000000  0.01146000   \n",
       "4   BTCUSDT  2593669  11731118           -1  37503.28000000  0.07359400   \n",
       "5   BTCUSDT  2593670  11731118           -1  37501.14000000  0.09719900   \n",
       "6   BTCUSDT  2593671  11731118           -1  37500.92000000  0.01774700   \n",
       "7   BTCUSDT  2596355  11749074           -1  37612.91000000  0.09544600   \n",
       "8   BTCUSDT  2596356  11749074           -1  37619.73000000  0.00455400   \n",
       "9   BTCUSDT  2596448  11749822           -1  37644.04000000  0.08022600   \n",
       "10  BTCUSDT  2596449  11749822           -1  37646.32000000  0.01977400   \n",
       "11  BTCUSDT  2598366  11763769           -1  37865.40000000  0.05361100   \n",
       "12  BTCUSDT  2598367  11763769           -1  37864.04000000  0.04638900   \n",
       "\n",
       "         quoteQty  commission commissionAsset                    time  \\\n",
       "0   3740.01322831  0.00000000             BTC 2022-01-29 16:27:41.439   \n",
       "1     10.08844419  0.00000000             BTC 2022-01-29 16:27:41.439   \n",
       "2    999.96666680  0.00000000             BTC 2022-01-29 16:39:56.026   \n",
       "3    429.80363280  0.00000000            USDT 2022-01-29 16:44:26.523   \n",
       "4   2760.01638832  0.00000000            USDT 2022-01-29 16:44:26.523   \n",
       "5   3645.07330686  0.00000000            USDT 2022-01-29 16:44:26.523   \n",
       "6    665.52882724  0.00000000            USDT 2022-01-29 16:44:26.523   \n",
       "7   3590.00180786  0.00000000             BTC 2022-01-29 17:56:50.994   \n",
       "8    171.32025042  0.00000000             BTC 2022-01-29 17:56:50.994   \n",
       "9   3020.03075304  0.00000000             BTC 2022-01-29 17:59:52.565   \n",
       "10   744.41833168  0.00000000             BTC 2022-01-29 17:59:52.565   \n",
       "11  2030.00195940  0.00000000            USDT 2022-01-29 18:55:48.428   \n",
       "12  1756.47495156  0.00000000            USDT 2022-01-29 18:55:48.428   \n",
       "\n",
       "    isBuyer  isMaker  isBestMatch  \n",
       "0      True    False         True  \n",
       "1      True    False         True  \n",
       "2      True    False         True  \n",
       "3     False    False         True  \n",
       "4     False    False         True  \n",
       "5     False    False         True  \n",
       "6     False    False         True  \n",
       "7      True    False         True  \n",
       "8      True    False         True  \n",
       "9      True    False         True  \n",
       "10     True    False         True  \n",
       "11    False    False         True  \n",
       "12    False    False         True  "
      ]
     },
     "execution_count": 91,
     "metadata": {},
     "output_type": "execute_result"
    }
   ],
   "source": [
    "df"
   ]
  },
  {
   "cell_type": "markdown",
   "id": "37a46e92",
   "metadata": {},
   "source": [
    "## Creating & Running a first(simple ) Tradingbot"
   ]
  },
  {
   "cell_type": "code",
   "execution_count": 93,
   "id": "2cb69648",
   "metadata": {},
   "outputs": [],
   "source": [
    "import pandas as pd\n",
    "import numpy as np\n",
    "from binance import ThreadedWebsocketManager\n",
    "from binance.client import Client\n",
    "client = Client(api_key = api_key, api_secret=secret_key, tld=\"com\", testnet=True)"
   ]
  },
  {
   "cell_type": "code",
   "execution_count": 96,
   "id": "594e6e4a",
   "metadata": {},
   "outputs": [
    {
     "data": {
      "text/plain": [
       "{'makerCommission': 0,\n",
       " 'takerCommission': 0,\n",
       " 'buyerCommission': 0,\n",
       " 'sellerCommission': 0,\n",
       " 'canTrade': True,\n",
       " 'canWithdraw': False,\n",
       " 'canDeposit': False,\n",
       " 'updateTime': 1643484140005,\n",
       " 'accountType': 'SPOT',\n",
       " 'balances': [{'asset': 'BNB',\n",
       "   'free': '1000.00000000',\n",
       "   'locked': '0.00000000'},\n",
       "  {'asset': 'BTC', 'free': '1.02668000', 'locked': '0.00000000'},\n",
       "  {'asset': 'BUSD', 'free': '10000.00000000', 'locked': '0.00000000'},\n",
       "  {'asset': 'ETH', 'free': '100.00000000', 'locked': '0.00000000'},\n",
       "  {'asset': 'LTC', 'free': '500.00000000', 'locked': '0.00000000'},\n",
       "  {'asset': 'TRX', 'free': '500000.00000000', 'locked': '0.00000000'},\n",
       "  {'asset': 'USDT', 'free': '9011.05958388', 'locked': '0.00000000'},\n",
       "  {'asset': 'XRP', 'free': '50000.00000000', 'locked': '0.00000000'}],\n",
       " 'permissions': ['SPOT']}"
      ]
     },
     "execution_count": 96,
     "metadata": {},
     "output_type": "execute_result"
    }
   ],
   "source": [
    "client.get_account()"
   ]
  },
  {
   "cell_type": "markdown",
   "id": "3a10a125",
   "metadata": {},
   "source": [
    "### A simple random bot: ### Stream Market  data and buy 0.1BTC once condition x (Price and/or Vol) has been met. Then stop the stream.\n",
    "\n",
    "Conditionx: Proce (rounded down) is divisible by 10 without remeinder"
   ]
  },
  {
   "cell_type": "code",
   "execution_count": 97,
   "id": "a44dd8f0",
   "metadata": {},
   "outputs": [
    {
     "data": {
      "text/plain": [
       "0"
      ]
     },
     "execution_count": 97,
     "metadata": {},
     "output_type": "execute_result"
    }
   ],
   "source": [
    "31000 % 10"
   ]
  },
  {
   "cell_type": "code",
   "execution_count": 98,
   "id": "406ed34c",
   "metadata": {},
   "outputs": [],
   "source": [
    "# init and start the websocket\n",
    "twm = ThreadedWebsocketManager()\n",
    "twm.start()"
   ]
  },
  {
   "cell_type": "code",
   "execution_count": 100,
   "id": "f3e13713",
   "metadata": {},
   "outputs": [],
   "source": [
    "def simple_bot(msg):\n",
    "    '''define how toprocess incoming websocket messages'''\n",
    "    \n",
    "    time = pd.to_datetime(msg[\"E\"],unit=\"ms\")\n",
    "    price=float(msg[\"c\"])\n",
    "    \n",
    "    print(\"Time:{} | Price: {}\".format(time, price))\n",
    "    \n",
    "    if int(price)%10 == 0:\n",
    "        order=client.create_order(symbol=\"BTCUSDT\", side=\"BUY\", type=\"MARKET\", quantity=\"0.1\")\n",
    "        print(\"\\n\"+ 50*\"=\")\n",
    "        print(\"Buy {} BTC for {} USDT\".format(order[\"executedQty\"], order[\"cummulativeQuoteQty\"]))\n",
    "        print(\"\\n\"+ 50*\"=\")\n",
    "        twm.stop()"
   ]
  },
  {
   "cell_type": "code",
   "execution_count": 101,
   "id": "b7622e8d",
   "metadata": {},
   "outputs": [
    {
     "data": {
      "text/plain": [
       "'btcusdt@miniTicker'"
      ]
     },
     "execution_count": 101,
     "metadata": {},
     "output_type": "execute_result"
    },
    {
     "name": "stdout",
     "output_type": "stream",
     "text": [
      "Time:2022-01-29 19:43:34.576000 | Price: 37913.48\n",
      "Time:2022-01-29 19:43:35.548000 | Price: 37904.76\n",
      "Time:2022-01-29 19:43:35.999000 | Price: 37904.76\n",
      "Time:2022-01-29 19:43:37.556000 | Price: 37903.92\n",
      "Time:2022-01-29 19:43:38.703000 | Price: 37907.52\n",
      "Time:2022-01-29 19:43:39.682000 | Price: 37911.43\n",
      "Time:2022-01-29 19:43:39.981000 | Price: 37911.43\n",
      "Time:2022-01-29 19:43:41.542000 | Price: 37913.49\n",
      "Time:2022-01-29 19:43:42.634000 | Price: 37913.49\n",
      "Time:2022-01-29 19:43:43.539000 | Price: 37913.49\n",
      "Time:2022-01-29 19:43:44.644000 | Price: 37913.48\n",
      "Time:2022-01-29 19:43:45.687000 | Price: 37913.49\n",
      "Time:2022-01-29 19:43:46.737000 | Price: 37913.48\n",
      "Time:2022-01-29 19:43:47.662000 | Price: 37913.49\n",
      "Time:2022-01-29 19:43:48.087000 | Price: 37913.49\n",
      "Time:2022-01-29 19:43:49.467000 | Price: 37913.49\n",
      "Time:2022-01-29 19:43:50.256000 | Price: 37913.48\n",
      "Time:2022-01-29 19:43:51.302000 | Price: 37913.48\n",
      "Time:2022-01-29 19:43:52.414000 | Price: 37913.49\n",
      "Time:2022-01-29 19:43:54.055000 | Price: 37913.49\n",
      "Time:2022-01-29 19:43:54.516000 | Price: 37913.49\n",
      "Time:2022-01-29 19:43:56.127000 | Price: 37913.49\n",
      "Time:2022-01-29 19:43:57.676000 | Price: 37913.48\n",
      "Time:2022-01-29 19:43:58.337000 | Price: 37913.48\n",
      "Time:2022-01-29 19:43:59.325000 | Price: 37913.48\n",
      "Time:2022-01-29 19:44:00.487000 | Price: 37907.23\n",
      "Time:2022-01-29 19:44:01.570000 | Price: 37907.16\n",
      "Time:2022-01-29 19:44:02.597000 | Price: 37905.28\n",
      "Time:2022-01-29 19:44:03.541000 | Price: 37905.32\n",
      "Time:2022-01-29 19:44:04.593000 | Price: 37907.1\n",
      "Time:2022-01-29 19:44:05.097000 | Price: 37907.11\n",
      "Time:2022-01-29 19:44:06.524000 | Price: 37907.1\n",
      "Time:2022-01-29 19:44:07.685000 | Price: 37907.1\n",
      "Time:2022-01-29 19:44:07.770000 | Price: 37907.1\n",
      "Time:2022-01-29 19:44:09.452000 | Price: 37907.11\n",
      "Time:2022-01-29 19:44:10.676000 | Price: 37907.11\n",
      "Time:2022-01-29 19:44:11.517000 | Price: 37907.1\n",
      "Time:2022-01-29 19:44:12.497000 | Price: 37907.11\n",
      "Time:2022-01-29 19:44:13.726000 | Price: 37907.1\n",
      "Time:2022-01-29 19:44:14.678000 | Price: 37900.47\n",
      "\n",
      "==================================================\n",
      "Buy 0.10000000 BTC for 3790.05129316 USDT\n",
      "\n",
      "==================================================\n"
     ]
    }
   ],
   "source": [
    "twm.start_symbol_miniticker_socket(callback=simple_bot,symbol=\"BTCUSDT\")"
   ]
  },
  {
   "cell_type": "code",
   "execution_count": 102,
   "id": "ffc3e2ab",
   "metadata": {},
   "outputs": [
    {
     "data": {
      "text/plain": [
       "{'makerCommission': 0,\n",
       " 'takerCommission': 0,\n",
       " 'buyerCommission': 0,\n",
       " 'sellerCommission': 0,\n",
       " 'canTrade': True,\n",
       " 'canWithdraw': False,\n",
       " 'canDeposit': False,\n",
       " 'updateTime': 1643485455377,\n",
       " 'accountType': 'SPOT',\n",
       " 'balances': [{'asset': 'BNB',\n",
       "   'free': '1000.00000000',\n",
       "   'locked': '0.00000000'},\n",
       "  {'asset': 'BTC', 'free': '1.12668000', 'locked': '0.00000000'},\n",
       "  {'asset': 'BUSD', 'free': '10000.00000000', 'locked': '0.00000000'},\n",
       "  {'asset': 'ETH', 'free': '100.00000000', 'locked': '0.00000000'},\n",
       "  {'asset': 'LTC', 'free': '500.00000000', 'locked': '0.00000000'},\n",
       "  {'asset': 'TRX', 'free': '500000.00000000', 'locked': '0.00000000'},\n",
       "  {'asset': 'USDT', 'free': '5221.00829072', 'locked': '0.00000000'},\n",
       "  {'asset': 'XRP', 'free': '50000.00000000', 'locked': '0.00000000'}],\n",
       " 'permissions': ['SPOT']}"
      ]
     },
     "execution_count": 102,
     "metadata": {},
     "output_type": "execute_result"
    }
   ],
   "source": [
    "client.get_account()"
   ]
  },
  {
   "cell_type": "code",
   "execution_count": null,
   "id": "61f6b248",
   "metadata": {},
   "outputs": [],
   "source": []
  }
 ],
 "metadata": {
  "kernelspec": {
   "display_name": "Python 3 (ipykernel)",
   "language": "python",
   "name": "python3"
  },
  "language_info": {
   "codemirror_mode": {
    "name": "ipython",
    "version": 3
   },
   "file_extension": ".py",
   "mimetype": "text/x-python",
   "name": "python",
   "nbconvert_exporter": "python",
   "pygments_lexer": "ipython3",
   "version": "3.9.7"
  }
 },
 "nbformat": 4,
 "nbformat_minor": 5
}
